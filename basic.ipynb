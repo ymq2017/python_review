{
 "nbformat": 4,
 "nbformat_minor": 2,
 "metadata": {
  "language_info": {
   "name": "python",
   "codemirror_mode": {
    "name": "ipython",
    "version": 3
   },
   "version": "3.6.10-final"
  },
  "orig_nbformat": 2,
  "file_extension": ".py",
  "mimetype": "text/x-python",
  "name": "python",
  "npconvert_exporter": "python",
  "pygments_lexer": "ipython3",
  "version": 3,
  "kernelspec": {
   "name": "python361064bitbasecondab1e38a44877a48f7be2c41e96452a6ec",
   "display_name": "Python 3.6.10 64-bit ('base': conda)"
  }
 },
 "cells": [
  {
   "cell_type": "code",
   "execution_count": 2,
   "metadata": {},
   "outputs": [
    {
     "name": "stdout",
     "output_type": "stream",
     "text": "He is a string. who are you?\n['He', 'is', 'a', 'string.', 'Who', 'are', 'you?']\n3\n11\n-1\nHe i\nHe|is|a|string.|Who|are|you?\nwww.google.com\n"
    }
   ],
   "source": [
    "t = 'He is a string. Who are you?'\n",
    "print(t.capitalize())\n",
    "print(t.split())\n",
    "print(t.find('i'))\n",
    "print(t.find('in'))\n",
    "print(t.find('Python'))\n",
    "print(t[0:4])\n",
    "print(t.replace(' ', '|'))\n",
    "\n",
    "w = 'http://www.google.com'\n",
    "print(w.strip('http://'))\n"
   ]
  },
  {
   "cell_type": "code",
   "execution_count": 6,
   "metadata": {},
   "outputs": [
    {
     "name": "stdout",
     "output_type": "stream",
     "text": "<class 'list'>\n[1, 2, 3.14, 'data', [4, 3]]\n[1, 2, 3.14, 'data', [4, 3], 'delta', 5, 6]\n[1, 2, 3.14, 'beta', 'data', [4, 3], 'delta', 5, 6]\n[1, 2, 3.14, 'beta', [4, 3], 'delta', 5, 6]\n3\n"
    }
   ],
   "source": [
    "l = [1,2,3.14,'data']\n",
    "print(type(l))\n",
    "l.append([4,3])\n",
    "print(l)\n",
    "l.extend(['delta',5,6])\n",
    "print(l)\n",
    "l.insert(3,'beta')\n",
    "print(l)\n",
    "l.remove('data')\n",
    "print(l)\n",
    "print(l[4][1])"
   ]
  },
  {
   "cell_type": "code",
   "execution_count": 8,
   "metadata": {},
   "outputs": [
    {
     "name": "stdout",
     "output_type": "stream",
     "text": "[5, 2, 3, 4]\n[1, 2, 3, 4]\n"
    }
   ],
   "source": [
    "x = [1,2,3,4]\n",
    "y = x\n",
    "y[0] = 5\n",
    "print(x)            #注意改y也会改x\n",
    "\n",
    "x = [1,2,3,4]\n",
    "z = x.copy()\n",
    "z[0] = 5\n",
    "print(x)"
   ]
  },
  {
   "cell_type": "markdown",
   "metadata": {},
   "source": [
    "赋值上的区别\n",
    "\n",
    "mutable – 可变\n",
    "可变对象可以在其 id() 保持固定的情况下改变其取值\n",
    "immutable – 不可变\n",
    "具有固定值的对象。不可变对象包括数字、字符串和元组。这样的对象不能被改变。如果必须存储一个不同的值，则必须创建新的对象。它们在需要常量哈希值的地方起着重要作用，例如作为字典中的键。整数对象也是immutable\n",
    "\n",
    "如果我们有一个可变对象 (list, dict, set 等等)，我们可以使用某些特定的操作来改变它，所有指向它的变量都会显示它的改变。\n",
    "\n",
    "如果我们有一个不可变对象 (str, int, tuple 等等)，所有指向它的变量都将显示相同样的值，但凡是会改变这个值的操作将总是返回一个新对象\n",
    "\n"
   ]
  },
  {
   "cell_type": "code",
   "execution_count": 1,
   "metadata": {},
   "outputs": [
    {
     "name": "stdout",
     "output_type": "stream",
     "text": "[[1, 2, 3, 4], [1, 2, 3, 4], [1, 2, 3]]\n4\n"
    }
   ],
   "source": [
    "a = [[1,2,3,4],[1,2,3,4],[1,2,3]]\n",
    "print(a)\n",
    "print(a[0][3])          # Multidimensional list is not a matrix"
   ]
  },
  {
   "cell_type": "code",
   "execution_count": 4,
   "metadata": {},
   "outputs": [
    {
     "name": "stdout",
     "output_type": "stream",
     "text": "[2, 16, 54]\n[2, 16, 54]\n"
    }
   ],
   "source": [
    "a = [2,16,54]\n",
    "b = []\n",
    "if a[0]<a[1] and a[0]<a[2] :\n",
    "    b.append(a[0])\n",
    "    if a[1]<a[2]:\n",
    "        b.append(a[1])\n",
    "        b.append(a[2])\n",
    "    else:\n",
    "        b.append(a[2])\n",
    "        b.append(a[1])\n",
    "print(a)\n",
    "print(b)"
   ]
  },
  {
   "cell_type": "code",
   "execution_count": 7,
   "metadata": {},
   "outputs": [
    {
     "name": "stdout",
     "output_type": "stream",
     "text": "2\n4\n5\n25\n8\n64\n4995\n"
    }
   ],
   "source": [
    "for i in range(2,10,3):\n",
    "    print(i)\n",
    "    l = i**2\n",
    "    print(l)\n",
    "\n",
    "a = 10\n",
    "sumup=0\n",
    "while a<100:\n",
    "    a+=1\n",
    "    sumup+=a\n",
    "print(sumup)"
   ]
  },
  {
   "cell_type": "code",
   "execution_count": 8,
   "metadata": {},
   "outputs": [
    {
     "name": "stdout",
     "output_type": "stream",
     "text": "306\n"
    }
   ],
   "source": [
    "for i in range(300,351):\n",
    "    if i % 17 == 0 :\n",
    "        print(i)\n",
    "        break\n",
    "    else:\n",
    "        continue"
   ]
  },
  {
   "cell_type": "code",
   "execution_count": 9,
   "metadata": {},
   "outputs": [
    {
     "name": "stdout",
     "output_type": "stream",
     "text": "0\n0\n1\n2\n3\n4\n1\n0\n1\n2\n3\n4\n2\n0\n1\n2\n3\n4\n3\n0\n1\n2\n3\n4\n4\n0\n1\n2\n3\n4\n5\n0\n1\n2\n3\n4\n6\n0\n1\n2\n3\n4\n7\n0\n1\n2\n3\n4\n8\n0\n1\n2\n3\n4\n9\n0\n1\n2\n3\n4\n"
    }
   ],
   "source": [
    "for i in range(10):\n",
    "    print(i)\n",
    "    for j in range(5):\n",
    "        print(j)"
   ]
  },
  {
   "cell_type": "code",
   "execution_count": 12,
   "metadata": {},
   "outputs": [
    {
     "name": "stdout",
     "output_type": "stream",
     "text": "range(1, 100, 2)\n11\n2500\n"
    }
   ],
   "source": [
    "x = range(1,100,2)\n",
    "print(x)\n",
    "print(x[5])\n",
    "print(sum(x))"
   ]
  },
  {
   "cell_type": "code",
   "execution_count": 14,
   "metadata": {},
   "outputs": [
    {
     "name": "stdout",
     "output_type": "stream",
     "text": "2\n"
    }
   ],
   "source": [
    "\n",
    "a = 1\n",
    "b = 2\n",
    "c = MaxOfTwo(a,b)\n",
    "print(c)\n",
    "\n",
    "def MaxOfTwo(x1,x2):\n",
    "    if x1 >= x2:\n",
    "        return x1\n",
    "    else:\n",
    "        return x2\n"
   ]
  },
  {
   "cell_type": "code",
   "execution_count": 17,
   "metadata": {},
   "outputs": [
    {
     "name": "stdout",
     "output_type": "stream",
     "text": "2 1\n"
    }
   ],
   "source": [
    "def f(x,y):\n",
    "    if x>=y:\n",
    "        return (x,y)\n",
    "    else:\n",
    "        return (y,x)\n",
    "\n",
    "a, b = f(1,2)\n",
    "print(a,b)\n"
   ]
  },
  {
   "cell_type": "code",
   "execution_count": 26,
   "metadata": {},
   "outputs": [
    {
     "name": "stdout",
     "output_type": "stream",
     "text": "I am creat\ned for the course. \n\n"
    }
   ],
   "source": [
    "file = open('newfile.txt','w')\n",
    "file.write('I am created for the course. \\n')\n",
    "file.write('How about you? ')\n",
    "file.write('How is your exam?')\n",
    "file.close()\n",
    "\n",
    "file = open('newfile.txt','r')\n",
    "# print(file.read())\n",
    "\n",
    "print(file.read(10))\n",
    "\n",
    "print(file.readline())\n",
    "\n",
    "#print(file.readlines())\n",
    "\n",
    "file.close()\n",
    "\n",
    "\n",
    "\n",
    "\n",
    "\n",
    "\n",
    "\n"
   ]
  },
  {
   "cell_type": "markdown",
   "metadata": {},
   "source": [
    "注意这里读的时候是连续的，下一个接着上一个的末尾读"
   ]
  },
  {
   "cell_type": "code",
   "execution_count": 27,
   "metadata": {},
   "outputs": [
    {
     "name": "stdout",
     "output_type": "stream",
     "text": "I am created for the course. \n\nHow about you? How is your exam?\n"
    }
   ],
   "source": [
    "file = open('newfile.txt','r')\n",
    "for line in file:\n",
    "    print(line)\n",
    "file.close()"
   ]
  },
  {
   "cell_type": "code",
   "execution_count": 33,
   "metadata": {},
   "outputs": [
    {
     "name": "stdout",
     "output_type": "stream",
     "text": "I am created for the course. \n\nHow about you? How is your exam?\n\n\n\n\n\n I am back again. \n\nDo you miss me? \n\n"
    }
   ],
   "source": [
    "file = open('newfile.txt','a')\n",
    "file.write('\\n I am back again. \\n')\n",
    "file.write('Do you miss me? \\n')\n",
    "file.close()\n",
    "\n",
    "with open('newfile.txt','r') as f:\n",
    "    for line in f:\n",
    "        print(line)\n"
   ]
  },
  {
   "cell_type": "code",
   "execution_count": 35,
   "metadata": {},
   "outputs": [
    {
     "name": "stdout",
     "output_type": "stream",
     "text": "[9, 8, 7, 6, 5, 4, 3, 2, 1, 0]\n"
    }
   ],
   "source": [
    "def my_sort(x):\n",
    "    for i in range(0,len(x)):\n",
    "        max = i\n",
    "        for j in range(i,len(x)):\n",
    "            if x[j] > x[max]:\n",
    "                max = j\n",
    "        temp = x[max]\n",
    "        x[max] = x[i]\n",
    "        x[i] = temp\n",
    "    return x\n",
    "\n",
    "x = [8,2,4,6,1,9,0,3,5,7]\n",
    "y = my_sort(x)\n",
    "print(y)\n"
   ]
  },
  {
   "cell_type": "code",
   "execution_count": 37,
   "metadata": {},
   "outputs": [
    {
     "name": "stdout",
     "output_type": "stream",
     "text": "0.000092\n"
    }
   ],
   "source": [
    "import timeit\n",
    "\n",
    "def fun(x,y):\n",
    "    return x**2+y**3\n",
    "t_start = timeit.default_timer()\n",
    "z = fun(109.2,367.1)\n",
    "t_end = timeit.default_timer()\n",
    "cost = t_end-t_start\n",
    "print(\"%f\" %cost)\n"
   ]
  },
  {
   "cell_type": "code",
   "execution_count": 39,
   "metadata": {},
   "outputs": [
    {
     "data": {
      "text/plain": "array([2.+0.j, 3.+0.j, 6.+0.j, 7.+1.j])"
     },
     "execution_count": 39,
     "metadata": {},
     "output_type": "execute_result"
    }
   ],
   "source": [
    "import numpy as np\n",
    "\n",
    "np.array([2,3,6,7])\n",
    "np.array([2,3,6,7.])\n",
    "np.array([2,3,6,7+1j])\n"
   ]
  },
  {
   "cell_type": "markdown",
   "metadata": {},
   "source": [
    "与list不同，narray类型的元素必须是统一type的"
   ]
  },
  {
   "cell_type": "code",
   "execution_count": 42,
   "metadata": {},
   "outputs": [
    {
     "data": {
      "text/plain": "array([0.   , 0.625, 1.25 , 1.875, 2.5  ])"
     },
     "execution_count": 42,
     "metadata": {},
     "output_type": "execute_result"
    }
   ],
   "source": [
    "np.arange(5)\n",
    "np.arange(10,100,20,dtype=float)\n",
    "np.linspace(0.,2.5,5)\n",
    "\n",
    "\n"
   ]
  },
  {
   "cell_type": "code",
   "execution_count": 44,
   "metadata": {},
   "outputs": [
    {
     "name": "stdout",
     "output_type": "stream",
     "text": "[[1 2 3]\n [4 5 6]]\n(2, 3)\n2\n6\n"
    },
    {
     "data": {
      "text/plain": "array([[1, 2, 3],\n       [4, 5, 6]])"
     },
     "execution_count": 44,
     "metadata": {},
     "output_type": "execute_result"
    }
   ],
   "source": [
    "a = np.array([[1,2,3],[4,5,6]])\n",
    "print(a)\n",
    "print(a.shape)\n",
    "print(a.ndim)\n",
    "print(a.size)\n",
    "a\n",
    "\n",
    "\n",
    "\n",
    "\n",
    "\n",
    "\n"
   ]
  },
  {
   "cell_type": "code",
   "execution_count": 45,
   "metadata": {},
   "outputs": [
    {
     "name": "stdout",
     "output_type": "stream",
     "text": "[ 0  1  2  3  4  5  6  7  8  9 10 11 12 13 14 15 16 17 18 19]\n[[ 0  1  2  3  4]\n [ 5  6  7  8  9]\n [10 11 12 13 14]\n [15 16 17 18 19]]\n[[ 0]\n [ 1]\n [ 2]\n [ 3]\n [ 4]\n [ 5]\n [ 6]\n [ 7]\n [ 8]\n [ 9]\n [10]\n [11]\n [12]\n [13]\n [14]\n [15]\n [16]\n [17]\n [18]\n [19]]\n[[ 0  1  2  3]\n [ 4  5  6  7]\n [ 8  9 10 11]\n [12 13 14 15]\n [16 17 18 19]]\n"
    }
   ],
   "source": [
    "import numpy as np \n",
    "a = np.arange(0,20,1)\n",
    "print(a)\n",
    "b = a.reshape((4,5))\n",
    "print(b)\n",
    "c = a.reshape((20,1))\n",
    "print(c)\n",
    "d = a.reshape((-1,4))\n",
    "print(d)\n",
    "\n"
   ]
  },
  {
   "cell_type": "code",
   "execution_count": 48,
   "metadata": {},
   "outputs": [
    {
     "name": "stdout",
     "output_type": "stream",
     "text": "55\n55\n5\n5\n"
    }
   ],
   "source": [
    "import numpy as np\n",
    "a = np.array([1,2,3,4,5])\n",
    "b = a.copy()\n",
    "\n",
    "c1 = np.dot(np.transpose(a),b)\n",
    "print(c1)\n",
    "c2 = np.dot(a,np.transpose(b))\n",
    "print(c2)\n",
    "print(a.size)\n",
    "print(b.size)\n",
    "\n",
    "\n",
    "\n"
   ]
  },
  {
   "cell_type": "code",
   "execution_count": null,
   "metadata": {},
   "outputs": [],
   "source": [
    "\n",
    "\n",
    "\n",
    "\n",
    "\n",
    "\n",
    "\n"
   ]
  }
 ]
}