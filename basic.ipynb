{
 "nbformat": 4,
 "nbformat_minor": 2,
 "metadata": {
  "language_info": {
   "name": "python",
   "codemirror_mode": {
    "name": "ipython",
    "version": 3
   },
   "version": "3.6.10-final"
  },
  "orig_nbformat": 2,
  "file_extension": ".py",
  "mimetype": "text/x-python",
  "name": "python",
  "npconvert_exporter": "python",
  "pygments_lexer": "ipython3",
  "version": 3,
  "kernelspec": {
   "name": "python361064bitbasecondab1e38a44877a48f7be2c41e96452a6ec",
   "display_name": "Python 3.6.10 64-bit ('base': conda)"
  }
 },
 "cells": [
  {
   "cell_type": "code",
   "execution_count": 2,
   "metadata": {},
   "outputs": [
    {
     "name": "stdout",
     "output_type": "stream",
     "text": "He is a string. who are you?\n['He', 'is', 'a', 'string.', 'Who', 'are', 'you?']\n3\n11\n-1\nHe i\nHe|is|a|string.|Who|are|you?\nwww.google.com\n"
    }
   ],
   "source": [
    "t = 'He is a string. Who are you?'\n",
    "print(t.capitalize())\n",
    "print(t.split())\n",
    "print(t.find('i'))\n",
    "print(t.find('in'))\n",
    "print(t.find('Python'))\n",
    "print(t[0:4])\n",
    "print(t.replace(' ', '|'))\n",
    "\n",
    "w = 'http://www.google.com'\n",
    "print(w.strip('http://'))\n"
   ]
  },
  {
   "cell_type": "code",
   "execution_count": 6,
   "metadata": {},
   "outputs": [
    {
     "name": "stdout",
     "output_type": "stream",
     "text": "<class 'list'>\n[1, 2, 3.14, 'data', [4, 3]]\n[1, 2, 3.14, 'data', [4, 3], 'delta', 5, 6]\n[1, 2, 3.14, 'beta', 'data', [4, 3], 'delta', 5, 6]\n[1, 2, 3.14, 'beta', [4, 3], 'delta', 5, 6]\n3\n"
    }
   ],
   "source": [
    "l = [1,2,3.14,'data']\n",
    "print(type(l))\n",
    "l.append([4,3])\n",
    "print(l)\n",
    "l.extend(['delta',5,6])\n",
    "print(l)\n",
    "l.insert(3,'beta')\n",
    "print(l)\n",
    "l.remove('data')\n",
    "print(l)\n",
    "print(l[4][1])"
   ]
  },
  {
   "cell_type": "markdown",
   "metadata": {},
   "source": [
    "赋值上的区别\n",
    "\n",
    "mutable – 可变\n",
    "可变对象可以在其 id() 保持固定的情况下改变其取值\n",
    "immutable – 不可变\n",
    "具有固定值的对象。不可变对象包括数字、字符串和元组。这样的对象不能被改变。如果必须存储一个不同的值，则必须创建新的对象。它们在需要常量哈希值的地方起着重要作用，例如作为字典中的键。整数对象也是immutable\n",
    "\n",
    "如果我们有一个可变对象 (list, dict, set 等等)，我们可以使用某些特定的操作来改变它，所有指向它的变量都会显示它的改变。\n",
    "\n",
    "如果我们有一个不可变对象 (str, int, tuple 等等)，所有指向它的变量都将显示相同样的值，但凡是会改变这个值的操作将总是返回一个新对象\n",
    "\n"
   ]
  },
  {
   "cell_type": "code",
   "execution_count": 8,
   "metadata": {},
   "outputs": [
    {
     "name": "stdout",
     "output_type": "stream",
     "text": "[5, 2, 3, 4]\n[1, 2, 3, 4]\n"
    }
   ],
   "source": [
    "x = [1,2,3,4]\n",
    "y = x\n",
    "y[0] = 5\n",
    "print(x)            #注意改y也会改x\n",
    "\n",
    "x = [1,2,3,4]\n",
    "z = x.copy()\n",
    "z[0] = 5\n",
    "print(x)"
   ]
  },
  {
   "cell_type": "code",
   "execution_count": null,
   "metadata": {},
   "outputs": [],
   "source": []
  }
 ]
}