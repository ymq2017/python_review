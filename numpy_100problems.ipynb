{
 "nbformat": 4,
 "nbformat_minor": 2,
 "metadata": {
  "language_info": {
   "name": "python",
   "codemirror_mode": {
    "name": "ipython",
    "version": 3
   },
   "version": "3.6.10-final"
  },
  "orig_nbformat": 2,
  "file_extension": ".py",
  "mimetype": "text/x-python",
  "name": "python",
  "npconvert_exporter": "python",
  "pygments_lexer": "ipython3",
  "version": 3,
  "kernelspec": {
   "name": "python361064bitbasecondab1e38a44877a48f7be2c41e96452a6ec",
   "display_name": "Python 3.6.10 64-bit ('base': conda)"
  }
 },
 "cells": [
  {
   "cell_type": "markdown",
   "metadata": {},
   "source": [
    "# Numpy 100道练习题"
   ]
  },
  {
   "cell_type": "markdown",
   "metadata": {},
   "source": [
    "#### 1"
   ]
  },
  {
   "cell_type": "code",
   "execution_count": 1,
   "metadata": {},
   "outputs": [],
   "source": [
    "import numpy as np"
   ]
  },
  {
   "cell_type": "markdown",
   "metadata": {},
   "source": [
    "#### 2"
   ]
  },
  {
   "cell_type": "code",
   "execution_count": 2,
   "metadata": {},
   "outputs": [
    {
     "name": "stdout",
     "output_type": "stream",
     "text": "1.18.1\nblas_mkl_info:\n    libraries = ['mkl_rt']\n    library_dirs = ['D:/python/Ana\\\\Library\\\\lib']\n    define_macros = [('SCIPY_MKL_H', None), ('HAVE_CBLAS', None)]\n    include_dirs = ['C:\\\\Program Files (x86)\\\\IntelSWTools\\\\compilers_and_libraries_2019.0.117\\\\windows\\\\mkl', 'C:\\\\Program Files (x86)\\\\IntelSWTools\\\\compilers_and_libraries_2019.0.117\\\\windows\\\\mkl\\\\include', 'C:\\\\Program Files (x86)\\\\IntelSWTools\\\\compilers_and_libraries_2019.0.117\\\\windows\\\\mkl\\\\lib', 'D:/python/Ana\\\\Library\\\\include']\nblas_opt_info:\n    libraries = ['mkl_rt']\n    library_dirs = ['D:/python/Ana\\\\Library\\\\lib']\n    define_macros = [('SCIPY_MKL_H', None), ('HAVE_CBLAS', None)]\n    include_dirs = ['C:\\\\Program Files (x86)\\\\IntelSWTools\\\\compilers_and_libraries_2019.0.117\\\\windows\\\\mkl', 'C:\\\\Program Files (x86)\\\\IntelSWTools\\\\compilers_and_libraries_2019.0.117\\\\windows\\\\mkl\\\\include', 'C:\\\\Program Files (x86)\\\\IntelSWTools\\\\compilers_and_libraries_2019.0.117\\\\windows\\\\mkl\\\\lib', 'D:/python/Ana\\\\Library\\\\include']\nlapack_mkl_info:\n    libraries = ['mkl_rt']\n    library_dirs = ['D:/python/Ana\\\\Library\\\\lib']\n    define_macros = [('SCIPY_MKL_H', None), ('HAVE_CBLAS', None)]\n    include_dirs = ['C:\\\\Program Files (x86)\\\\IntelSWTools\\\\compilers_and_libraries_2019.0.117\\\\windows\\\\mkl', 'C:\\\\Program Files (x86)\\\\IntelSWTools\\\\compilers_and_libraries_2019.0.117\\\\windows\\\\mkl\\\\include', 'C:\\\\Program Files (x86)\\\\IntelSWTools\\\\compilers_and_libraries_2019.0.117\\\\windows\\\\mkl\\\\lib', 'D:/python/Ana\\\\Library\\\\include']\nlapack_opt_info:\n    libraries = ['mkl_rt']\n    library_dirs = ['D:/python/Ana\\\\Library\\\\lib']\n    define_macros = [('SCIPY_MKL_H', None), ('HAVE_CBLAS', None)]\n    include_dirs = ['C:\\\\Program Files (x86)\\\\IntelSWTools\\\\compilers_and_libraries_2019.0.117\\\\windows\\\\mkl', 'C:\\\\Program Files (x86)\\\\IntelSWTools\\\\compilers_and_libraries_2019.0.117\\\\windows\\\\mkl\\\\include', 'C:\\\\Program Files (x86)\\\\IntelSWTools\\\\compilers_and_libraries_2019.0.117\\\\windows\\\\mkl\\\\lib', 'D:/python/Ana\\\\Library\\\\include']\n"
    }
   ],
   "source": [
    "print(np.__version__)\n",
    "np.show_config()"
   ]
  },
  {
   "cell_type": "markdown",
   "metadata": {},
   "source": [
    "#### 3"
   ]
  },
  {
   "cell_type": "code",
   "execution_count": 3,
   "metadata": {},
   "outputs": [
    {
     "name": "stdout",
     "output_type": "stream",
     "text": "[0. 0. 0. 0. 0. 0. 0. 0. 0. 0.]\n"
    }
   ],
   "source": [
    "print(np.zeros(10))"
   ]
  },
  {
   "cell_type": "markdown",
   "metadata": {},
   "source": [
    "#### 4"
   ]
  },
  {
   "cell_type": "code",
   "execution_count": 5,
   "metadata": {},
   "outputs": [
    {
     "name": "stdout",
     "output_type": "stream",
     "text": "800 bytes\n"
    }
   ],
   "source": [
    "z = np.zeros((10,10))\n",
    "print(\"%d bytes\" % (z.size * z.itemsize))"
   ]
  },
  {
   "cell_type": "markdown",
   "metadata": {},
   "source": [
    "#### 5"
   ]
  },
  {
   "cell_type": "code",
   "execution_count": 11,
   "metadata": {},
   "outputs": [
    {
     "name": "stdout",
     "output_type": "stream",
     "text": "add(x1, x2, /, out=None, *, where=True, casting='same_kind', order='K', dtype=None, subok=True[, signature, extobj])\n\nAdd arguments element-wise.\n\nParameters\n----------\nx1, x2 : array_like\n    The arrays to be added. If ``x1.shape != x2.shape``, they must be broadcastable to a common shape (which becomes the shape of the output).\nout : ndarray, None, or tuple of ndarray and None, optional\n    A location into which the result is stored. If provided, it must have\n    a shape that the inputs broadcast to. If not provided or None,\n    a freshly-allocated array is returned. A tuple (possible only as a\n    keyword argument) must have length equal to the number of outputs.\nwhere : array_like, optional\n    This condition is broadcast over the input. At locations where the\n    condition is True, the `out` array will be set to the ufunc result.\n    Elsewhere, the `out` array will retain its original value.\n    Note that if an uninitialized `out` array is created via the default\n    ``out=None``, locations within it where the condition is False will\n    remain uninitialized.\n**kwargs\n    For other keyword-only arguments, see the\n    :ref:`ufunc docs <ufuncs.kwargs>`.\n\nReturns\n-------\nadd : ndarray or scalar\n    The sum of `x1` and `x2`, element-wise.\n    This is a scalar if both `x1` and `x2` are scalars.\n\nNotes\n-----\nEquivalent to `x1` + `x2` in terms of array broadcasting.\n\nExamples\n--------\n>>> np.add(1.0, 4.0)\n5.0\n>>> x1 = np.arange(9.0).reshape((3, 3))\n>>> x2 = np.arange(3.0)\n>>> np.add(x1, x2)\narray([[  0.,   2.,   4.],\n       [  3.,   5.,   7.],\n       [  6.,   8.,  10.]])\n"
    }
   ],
   "source": [
    "import numpy\n",
    "numpy.info(numpy.add)"
   ]
  },
  {
   "cell_type": "markdown",
   "metadata": {},
   "source": [
    "#### 6"
   ]
  },
  {
   "cell_type": "code",
   "execution_count": 12,
   "metadata": {},
   "outputs": [
    {
     "data": {
      "text/plain": "array([0., 0., 0., 0., 1., 0., 0., 0., 0., 0.])"
     },
     "execution_count": 12,
     "metadata": {},
     "output_type": "execute_result"
    }
   ],
   "source": [
    " z = np.zeros(10)\n",
    " z[4] = 1\n",
    " z"
   ]
  },
  {
   "cell_type": "markdown",
   "metadata": {},
   "source": [
    "#### 7"
   ]
  },
  {
   "cell_type": "code",
   "execution_count": 15,
   "metadata": {},
   "outputs": [
    {
     "name": "stdout",
     "output_type": "stream",
     "text": "[10 11 12 13 14 15 16 17 18 19 20 21 22 23 24 25 26 27 28 29 30 31 32 33\n 34 35 36 37 38 39 40 41 42 43 44 45 46 47 48 49]\n"
    }
   ],
   "source": [
    "z = np.arange(10,50)\n",
    "print(z)"
   ]
  },
  {
   "cell_type": "markdown",
   "metadata": {},
   "source": [
    "附：np.arange的效率要比range高很多很多"
   ]
  },
  {
   "cell_type": "code",
   "execution_count": 16,
   "metadata": {},
   "outputs": [
    {
     "name": "stdout",
     "output_type": "stream",
     "text": "525 µs ± 8.36 µs per loop (mean ± std. dev. of 7 runs, 1000 loops each)\n"
    }
   ],
   "source": [
    "% timeit [i**2 for i in range(1000)]"
   ]
  },
  {
   "cell_type": "code",
   "execution_count": 17,
   "metadata": {},
   "outputs": [
    {
     "name": "stdout",
     "output_type": "stream",
     "text": "5.01 µs ± 788 ns per loop (mean ± std. dev. of 7 runs, 100000 loops each)\n"
    }
   ],
   "source": [
    "%timeit a = np.arange(1000) ** 2"
   ]
  },
  {
   "cell_type": "markdown",
   "metadata": {},
   "source": [
    "#### 8"
   ]
  },
  {
   "cell_type": "code",
   "execution_count": 19,
   "metadata": {},
   "outputs": [
    {
     "name": "stdout",
     "output_type": "stream",
     "text": "[0 1 2 3 4 5 6 7 8 9]\n[9 8 7 6 5 4 3 2 1 0]\n"
    }
   ],
   "source": [
    "z = np.arange(10)\n",
    "print(z)\n",
    "z = z[::-1]\n",
    "print(z)"
   ]
  },
  {
   "cell_type": "markdown",
   "metadata": {},
   "source": [
    "#### 9"
   ]
  },
  {
   "cell_type": "code",
   "execution_count": 23,
   "metadata": {},
   "outputs": [
    {
     "name": "stdout",
     "output_type": "stream",
     "text": "[[0 1 2]\n [3 4 5]\n [6 7 8]]\n[[0 3 6]\n [1 4 7]\n [2 5 8]]\n"
    }
   ],
   "source": [
    "z = np.arange(0,9).reshape(3,3)\n",
    "print(z)\n",
    "z = np.arange(0,9).reshape(3,3).T\n",
    "print(z)"
   ]
  },
  {
   "cell_type": "markdown",
   "metadata": {},
   "source": [
    "#### 10"
   ]
  },
  {
   "cell_type": "code",
   "execution_count": 25,
   "metadata": {},
   "outputs": [
    {
     "data": {
      "text/plain": "(array([0, 1, 4], dtype=int64),)"
     },
     "execution_count": 25,
     "metadata": {},
     "output_type": "execute_result"
    }
   ],
   "source": [
    "z = np.array([1,2,0,0,4,0])\n",
    "z.nonzero()\n"
   ]
  },
  {
   "cell_type": "markdown",
   "metadata": {},
   "source": [
    "#### 11"
   ]
  },
  {
   "cell_type": "code",
   "execution_count": 26,
   "metadata": {},
   "outputs": [
    {
     "data": {
      "text/plain": "array([[1., 0., 0.],\n       [0., 1., 0.],\n       [0., 0., 1.]])"
     },
     "execution_count": 26,
     "metadata": {},
     "output_type": "execute_result"
    }
   ],
   "source": [
    "z = np.eye(3)\n",
    "z"
   ]
  },
  {
   "cell_type": "markdown",
   "metadata": {},
   "source": [
    "#### 12"
   ]
  },
  {
   "cell_type": "code",
   "execution_count": 32,
   "metadata": {},
   "outputs": [
    {
     "name": "stdout",
     "output_type": "stream",
     "text": "[[[0.80969034 0.87867174]\n  [0.36645558 0.11391886]\n  [0.16884471 0.53690377]\n  [0.76627542 0.84712889]]\n\n [[0.15740997 0.64190573]\n  [0.08046629 0.51164402]\n  [0.48275486 0.23481075]\n  [0.87616629 0.45586561]]\n\n [[0.84387868 0.41215137]\n  [0.27816139 0.53303842]\n  [0.78620859 0.74439437]\n  [0.05723595 0.55532523]]]\n[[0.49599958 0.7647487  0.46768985]\n [0.27746484 0.02054804 0.55062228]\n [0.32095204 0.2109341  0.60389853]]\n"
    }
   ],
   "source": [
    "z = np.random.random((3,4,2))\n",
    "print(z)\n",
    "z = np.random.rand(3,3)\n",
    "print(z)"
   ]
  },
  {
   "cell_type": "markdown",
   "metadata": {},
   "source": [
    "#### 13"
   ]
  },
  {
   "cell_type": "code",
   "execution_count": 33,
   "metadata": {},
   "outputs": [
    {
     "name": "stdout",
     "output_type": "stream",
     "text": "0.9923566252444393\n0.04030713119986773\n"
    }
   ],
   "source": [
    "z = np.random.random((10,10))\n",
    "print(z.max())\n",
    "print(z.min())"
   ]
  },
  {
   "cell_type": "markdown",
   "metadata": {},
   "source": [
    "#### 14"
   ]
  },
  {
   "cell_type": "code",
   "execution_count": 34,
   "metadata": {},
   "outputs": [
    {
     "data": {
      "text/plain": "0.445619457667697"
     },
     "execution_count": 34,
     "metadata": {},
     "output_type": "execute_result"
    }
   ],
   "source": [
    "z = np.random.random((10))\n",
    "z.mean()"
   ]
  },
  {
   "cell_type": "markdown",
   "metadata": {},
   "source": [
    "#### 15"
   ]
  },
  {
   "cell_type": "code",
   "execution_count": 35,
   "metadata": {},
   "outputs": [
    {
     "data": {
      "text/plain": "array([[1., 1., 1., 1., 1.],\n       [1., 0., 0., 0., 1.],\n       [1., 0., 0., 0., 1.],\n       [1., 0., 0., 0., 1.],\n       [1., 1., 1., 1., 1.]])"
     },
     "execution_count": 35,
     "metadata": {},
     "output_type": "execute_result"
    }
   ],
   "source": [
    "z = np.ones((5,5))\n",
    "z[1:-1,1:-1] = 0\n",
    "z"
   ]
  },
  {
   "cell_type": "markdown",
   "metadata": {},
   "source": [
    "#### 16"
   ]
  },
  {
   "cell_type": "code",
   "execution_count": 2,
   "metadata": {},
   "outputs": [
    {
     "data": {
      "text/plain": "array([[0., 0., 0., 0., 0., 0., 0.],\n       [0., 1., 1., 1., 1., 1., 0.],\n       [0., 1., 1., 1., 1., 1., 0.],\n       [0., 1., 1., 1., 1., 1., 0.],\n       [0., 1., 1., 1., 1., 1., 0.],\n       [0., 1., 1., 1., 1., 1., 0.],\n       [0., 0., 0., 0., 0., 0., 0.]])"
     },
     "execution_count": 2,
     "metadata": {},
     "output_type": "execute_result"
    }
   ],
   "source": [
    "import numpy as np\n",
    "z = np.ones((5,5))\n",
    "m = np.pad(z,(1,1),mode='constant')\n",
    "m"
   ]
  },
  {
   "cell_type": "markdown",
   "metadata": {},
   "source": [
    "#### 17"
   ]
  },
  {
   "cell_type": "code",
   "execution_count": 5,
   "metadata": {},
   "outputs": [
    {
     "name": "stdout",
     "output_type": "stream",
     "text": "nan\nFalse\nFalse\nTrue\nFalse\nTrue\n"
    }
   ],
   "source": [
    "print(0*np.nan)\n",
    "print(np.nan == np.nan)\n",
    "print(np.inf > np.nan)\n",
    "print(np.nan in set([np.nan]))\n",
    "print(0.3 == 3 * 0.1)\n",
    "print(np.allclose(0.3,3*0.1))"
   ]
  },
  {
   "cell_type": "markdown",
   "metadata": {},
   "source": [
    "#### 18"
   ]
  },
  {
   "cell_type": "code",
   "execution_count": 6,
   "metadata": {},
   "outputs": [
    {
     "name": "stdout",
     "output_type": "stream",
     "text": "[[0 0 0 0 0]\n [1 0 0 0 0]\n [0 2 0 0 0]\n [0 0 3 0 0]\n [0 0 0 4 0]]\n"
    }
   ],
   "source": [
    "print(np.diag(np.arange(1,5),k=-1))"
   ]
  },
  {
   "cell_type": "markdown",
   "metadata": {},
   "source": [
    "#### 19"
   ]
  },
  {
   "cell_type": "code",
   "execution_count": 7,
   "metadata": {},
   "outputs": [
    {
     "data": {
      "text/plain": "array([[0., 1., 0., 1., 0., 1., 0., 1.],\n       [1., 0., 1., 0., 1., 0., 1., 0.],\n       [0., 1., 0., 1., 0., 1., 0., 1.],\n       [1., 0., 1., 0., 1., 0., 1., 0.],\n       [0., 1., 0., 1., 0., 1., 0., 1.],\n       [1., 0., 1., 0., 1., 0., 1., 0.],\n       [0., 1., 0., 1., 0., 1., 0., 1.],\n       [1., 0., 1., 0., 1., 0., 1., 0.]])"
     },
     "execution_count": 7,
     "metadata": {},
     "output_type": "execute_result"
    }
   ],
   "source": [
    "z = np.zeros((8,8))\n",
    "z[1::2,::2] = 1\n",
    "z[::2,1::2] = 1\n",
    "z"
   ]
  },
  {
   "cell_type": "markdown",
   "metadata": {},
   "source": [
    "#### 20"
   ]
  },
  {
   "cell_type": "code",
   "execution_count": 8,
   "metadata": {},
   "outputs": [
    {
     "name": "stdout",
     "output_type": "stream",
     "text": "(1, 5, 3)\n"
    }
   ],
   "source": [
    "print(np.unravel_index(99,(6,7,8)))"
   ]
  },
  {
   "cell_type": "markdown",
   "metadata": {},
   "source": [
    "#### 21"
   ]
  },
  {
   "cell_type": "code",
   "execution_count": 9,
   "metadata": {},
   "outputs": [
    {
     "data": {
      "text/plain": "array([[0, 1, 0, 1, 0, 1, 0, 1],\n       [1, 0, 1, 0, 1, 0, 1, 0],\n       [0, 1, 0, 1, 0, 1, 0, 1],\n       [1, 0, 1, 0, 1, 0, 1, 0],\n       [0, 1, 0, 1, 0, 1, 0, 1],\n       [1, 0, 1, 0, 1, 0, 1, 0],\n       [0, 1, 0, 1, 0, 1, 0, 1],\n       [1, 0, 1, 0, 1, 0, 1, 0]])"
     },
     "execution_count": 9,
     "metadata": {},
     "output_type": "execute_result"
    }
   ],
   "source": [
    "unit = np.array([[0,1],[1,0]])\n",
    "z = np.tile(unit,(4,4))\n",
    "z"
   ]
  },
  {
   "cell_type": "markdown",
   "metadata": {},
   "source": [
    "#### 22"
   ]
  },
  {
   "cell_type": "code",
   "execution_count": 11,
   "metadata": {},
   "outputs": [
    {
     "data": {
      "text/plain": "array([[ 0.75382922, -0.9102566 , -1.01298581, -1.50787814, -0.37415548],\n       [ 1.58299241,  0.2622532 ,  0.4743291 ,  0.96960838,  0.52865181],\n       [-0.9836459 , -0.12306003,  0.99561833,  0.10224378, -1.18872785],\n       [ 1.43740979,  0.37019992, -0.30320829,  1.00256908, -0.55854349],\n       [ 1.14406313, -1.56914046, -0.8458781 ,  1.39630478, -1.6425928 ]])"
     },
     "execution_count": 11,
     "metadata": {},
     "output_type": "execute_result"
    }
   ],
   "source": [
    "z = np.random.random((5,5))\n",
    "z = (z-z.mean())/z.std()\n",
    "z"
   ]
  },
  {
   "cell_type": "markdown",
   "metadata": {},
   "source": [
    "#### 23"
   ]
  },
  {
   "cell_type": "code",
   "execution_count": 12,
   "metadata": {},
   "outputs": [
    {
     "data": {
      "text/plain": "dtype([('r', 'u1'), ('g', 'u1'), ('b', 'u1'), ('a', 'u1')])"
     },
     "execution_count": 12,
     "metadata": {},
     "output_type": "execute_result"
    }
   ],
   "source": [
    "color = np.dtype([('r',np.ubyte,1),\n",
    "                ('g',np.ubyte,1),\n",
    "                ('b',np.ubyte,1),\n",
    "                ('a',np.ubyte,1)])\n",
    "color"
   ]
  },
  {
   "cell_type": "markdown",
   "metadata": {},
   "source": [
    "#### 24"
   ]
  },
  {
   "cell_type": "code",
   "execution_count": 2,
   "metadata": {},
   "outputs": [
    {
     "data": {
      "text/plain": "array([[3., 3.],\n       [3., 3.],\n       [3., 3.],\n       [3., 3.],\n       [3., 3.]])"
     },
     "execution_count": 2,
     "metadata": {},
     "output_type": "execute_result"
    }
   ],
   "source": [
    "import numpy as np\n",
    "z = np.dot(np.ones((5,3)), np.ones((3,2)))\n",
    "z"
   ]
  },
  {
   "cell_type": "markdown",
   "metadata": {},
   "source": [
    "#### 25"
   ]
  },
  {
   "cell_type": "code",
   "execution_count": 3,
   "metadata": {},
   "outputs": [
    {
     "data": {
      "text/plain": "array([ 0,  1,  2,  3, -4, -5, -6, -7,  8,  9])"
     },
     "execution_count": 3,
     "metadata": {},
     "output_type": "execute_result"
    }
   ],
   "source": [
    "z = np.arange(10)\n",
    "z[(z>3)&(z<8)] *= -1\n",
    "z"
   ]
  },
  {
   "cell_type": "markdown",
   "metadata": {},
   "source": [
    "#### 26"
   ]
  },
  {
   "cell_type": "code",
   "execution_count": 7,
   "metadata": {},
   "outputs": [
    {
     "name": "stdout",
     "output_type": "stream",
     "text": "9\n10\n"
    }
   ],
   "source": [
    "print(sum(range(5),-1))\n",
    "print(np.sum(range(5),-1))\n"
   ]
  },
  {
   "cell_type": "markdown",
   "metadata": {},
   "source": [
    "#### 27"
   ]
  },
  {
   "cell_type": "code",
   "execution_count": 8,
   "metadata": {},
   "outputs": [
    {
     "data": {
      "text/plain": "array([        1,         1,         4,        27,       256,      3125,\n           46656,    823543,  16777216, 387420489], dtype=int32)"
     },
     "execution_count": 8,
     "metadata": {},
     "output_type": "execute_result"
    }
   ],
   "source": [
    "z = np.arange(10)\n",
    "z ** z"
   ]
  },
  {
   "cell_type": "code",
   "execution_count": 9,
   "metadata": {},
   "outputs": [
    {
     "data": {
      "text/plain": "array([  0,   1,   2,   4,   8,  16,  32,  64, 128, 256], dtype=int32)"
     },
     "execution_count": 9,
     "metadata": {},
     "output_type": "execute_result"
    }
   ],
   "source": [
    "2 << z >> 2"
   ]
  },
  {
   "cell_type": "code",
   "execution_count": 10,
   "metadata": {},
   "outputs": [
    {
     "data": {
      "text/plain": "array([False, False, False, False, False, False, False, False, False,\n       False])"
     },
     "execution_count": 10,
     "metadata": {},
     "output_type": "execute_result"
    }
   ],
   "source": [
    "z < -z"
   ]
  },
  {
   "cell_type": "code",
   "execution_count": 11,
   "metadata": {},
   "outputs": [
    {
     "data": {
      "text/plain": "array([0.+0.j, 0.+1.j, 0.+2.j, 0.+3.j, 0.+4.j, 0.+5.j, 0.+6.j, 0.+7.j,\n       0.+8.j, 0.+9.j])"
     },
     "execution_count": 11,
     "metadata": {},
     "output_type": "execute_result"
    }
   ],
   "source": [
    "1j * z"
   ]
  },
  {
   "cell_type": "code",
   "execution_count": 12,
   "metadata": {},
   "outputs": [
    {
     "data": {
      "text/plain": "array([0., 1., 2., 3., 4., 5., 6., 7., 8., 9.])"
     },
     "execution_count": 12,
     "metadata": {},
     "output_type": "execute_result"
    }
   ],
   "source": [
    "z / 1 / 1"
   ]
  },
  {
   "cell_type": "markdown",
   "metadata": {},
   "source": [
    "#### 28"
   ]
  },
  {
   "cell_type": "code",
   "execution_count": 13,
   "metadata": {},
   "outputs": [
    {
     "data": {
      "text/plain": "nan"
     },
     "execution_count": 13,
     "metadata": {},
     "output_type": "execute_result"
    }
   ],
   "source": [
    "np.array(0)/np.array(0)"
   ]
  },
  {
   "cell_type": "code",
   "execution_count": 14,
   "metadata": {},
   "outputs": [
    {
     "data": {
      "text/plain": "0"
     },
     "execution_count": 14,
     "metadata": {},
     "output_type": "execute_result"
    }
   ],
   "source": [
    "np.array(0) // np.array(0)"
   ]
  },
  {
   "cell_type": "code",
   "execution_count": 16,
   "metadata": {},
   "outputs": [
    {
     "data": {
      "text/plain": "array([-2.14748365e+09])"
     },
     "execution_count": 16,
     "metadata": {},
     "output_type": "execute_result"
    }
   ],
   "source": [
    "np.array([np.nan]).astype(int).astype(float)"
   ]
  },
  {
   "cell_type": "markdown",
   "metadata": {},
   "source": [
    "#### 29"
   ]
  },
  {
   "cell_type": "code",
   "execution_count": 18,
   "metadata": {},
   "outputs": [
    {
     "data": {
      "text/plain": "array([ 3.30786074, -5.17558958,  0.54108139,  2.22996591,  5.35639352,\n       -6.32721663, -3.16160919,  0.07205667, -8.64464816,  4.22176255])"
     },
     "execution_count": 18,
     "metadata": {},
     "output_type": "execute_result"
    }
   ],
   "source": [
    "import numpy as np\n",
    "z = np.random.uniform(-10,10,10)\n",
    "z"
   ]
  },
  {
   "cell_type": "code",
   "execution_count": 19,
   "metadata": {},
   "outputs": [
    {
     "data": {
      "text/plain": "array([ 4., -6.,  1.,  3.,  6., -7., -4.,  1., -9.,  5.])"
     },
     "execution_count": 19,
     "metadata": {},
     "output_type": "execute_result"
    }
   ],
   "source": [
    "np.copysign(np.ceil(np.abs(z)),z)"
   ]
  },
  {
   "cell_type": "markdown",
   "metadata": {},
   "source": [
    "#### 30"
   ]
  },
  {
   "cell_type": "code",
   "execution_count": 20,
   "metadata": {},
   "outputs": [
    {
     "name": "stdout",
     "output_type": "stream",
     "text": "Search results for 'common values'\n----------------------------------\nnumpy.ma.intersect1d\n    Returns the unique elements common to both arrays.\nnumpy.gcd\n    Returns the greatest common divisor of ``|x1|`` and ``|x2|``\nnumpy.lcm\n    Returns the lowest common multiple of ``|x1|`` and ``|x2|``\nnumpy.intersect1d\n    Find the intersection of two arrays.\nnumpy.ma.common_fill_value\n    Return the common filling value of two masked arrays, if any.\nnumpy.sign\n    Returns an element-wise indication of the sign of a number.\nnumpy.sqrt\n    Return the non-negative square-root of an array, element-wise.\nnumpy.equal\n    Return (x1 == x2) element-wise.\nnumpy.choose\n    Construct an array from an index array and a set of arrays to choose from.\nnumpy.divmod\n    Return element-wise quotient and remainder simultaneously.\nnumpy.einsum\n    einsum(subscripts, *operands, out=None, dtype=None, order='K',\nnumpy.nditer\n    Efficient multi-dimensional iterator object to iterate over arrays.\nnumpy.arctan2\n    Element-wise arc tangent of ``x1/x2`` choosing the quadrant correctly.\nnumpy.nonzero\n    Return the indices of the elements that are non-zero.\nnumpy.copysign\n    Change the sign of x1 to that of x2, element-wise.\nnumpy.heaviside\n    Compute the Heaviside step function.\nnumpy.logaddexp\n    Logarithm of the sum of exponentiations of the inputs.\nnumpy.nextafter\n    Return the next floating-point value after x1 towards x2, element-wise.\nnumpy.left_shift\n    Shift the bits of an integer to the left.\nnumpy.logaddexp2\n    Logarithm of the sum of exponentiations of the inputs in base-2.\nnumpy.histogram2d\n    Compute the bi-dimensional histogram of two data samples.\nnumpy.right_shift\n    Shift the bits of an integer to the right.\nnumpy.ma.cov\n    Estimate the covariance matrix.\nnumpy.fft.ifft\n    Compute the one-dimensional inverse discrete Fourier Transform.\nnumpy.ma.sqrt\n    Return the non-negative square-root of an array, element-wise.\nnumpy.ma.equal\n    Return (x1 == x2) element-wise.\nnumpy.linalg.qr\n    Compute the qr factorization of a matrix.\nnumpy.ma.arctan2\n    Element-wise arc tangent of ``x1/x2`` choosing the quadrant correctly.\nnumpy.ma.nonzero\n    nonzero(self)\nnumpy.histogram_bin_edges\n    Function to calculate only the edges of the bins used by the `histogram`\nnumpy.ma.MaskedArray.nonzero\n    Return the indices of unmasked elements that are not zero.\nnumpy.lib.recfunctions.join_by\n    Join arrays `r1` and `r2` on key `key`.\nnumpy.random.Generator.weibull\n    Draw samples from a Weibull distribution.\nnumpy.random.RandomState.weibull\n    Draw samples from a Weibull distribution.\nnumpy.core._multiarray_umath.c_einsum\n    c_einsum(subscripts, *operands, out=None, dtype=None, order='K',\nnumpy.random.Generator.multivariate_hypergeometric\n    multivariate_hypergeometric(colors, nsample, size=None,"
    }
   ],
   "source": [
    "np.lookfor(\"common values\")"
   ]
  },
  {
   "cell_type": "code",
   "execution_count": 21,
   "metadata": {},
   "outputs": [
    {
     "name": "stdout",
     "output_type": "stream",
     "text": "intersect1d(*args, **kwargs)\n\nFind the intersection of two arrays.\n\nReturn the sorted, unique values that are in both of the input arrays.\n\nParameters\n----------\nar1, ar2 : array_like\n    Input arrays. Will be flattened if not already 1D.\nassume_unique : bool\n    If True, the input arrays are both assumed to be unique, which\n    can speed up the calculation.  Default is False.\nreturn_indices : bool\n    If True, the indices which correspond to the intersection of the two\n    arrays are returned. The first instance of a value is used if there are\n    multiple. Default is False.\n\n    .. versionadded:: 1.15.0\n\nReturns\n-------\nintersect1d : ndarray\n    Sorted 1D array of common and unique elements.\ncomm1 : ndarray\n    The indices of the first occurrences of the common values in `ar1`.\n    Only provided if `return_indices` is True.\ncomm2 : ndarray\n    The indices of the first occurrences of the common values in `ar2`.\n    Only provided if `return_indices` is True.\n\n\nSee Also\n--------\nnumpy.lib.arraysetops : Module with a number of other functions for\n                        performing set operations on arrays.\n\nExamples\n--------\n>>> np.intersect1d([1, 3, 4, 3], [3, 1, 2, 1])\narray([1, 3])\n\nTo intersect more than two arrays, use functools.reduce:\n\n>>> from functools import reduce\n>>> reduce(np.intersect1d, ([1, 3, 4, 3], [3, 1, 2, 1], [6, 3, 4, 2]))\narray([3])\n\nTo return the indices of the values common to the input arrays\nalong with the intersected values:\n\n>>> x = np.array([1, 1, 2, 3, 4])\n>>> y = np.array([2, 1, 4, 6])\n>>> xy, x_ind, y_ind = np.intersect1d(x, y, return_indices=True)\n>>> x_ind, y_ind\n(array([0, 2, 4]), array([1, 0, 2]))\n>>> xy, x[x_ind], y[y_ind]\n(array([1, 2, 4]), array([1, 2, 4]), array([1, 2, 4]))\n"
    }
   ],
   "source": [
    "np.info(np.intersect1d)"
   ]
  },
  {
   "cell_type": "code",
   "execution_count": 22,
   "metadata": {},
   "outputs": [
    {
     "data": {
      "text/plain": "array([0, 1, 2, 3, 4])"
     },
     "execution_count": 22,
     "metadata": {},
     "output_type": "execute_result"
    }
   ],
   "source": [
    "z1 = np.arange(-5,5)\n",
    "z2 = np.arange(10)\n",
    "np.intersect1d(z1,z2)"
   ]
  },
  {
   "cell_type": "markdown",
   "metadata": {},
   "source": [
    "#### 32"
   ]
  },
  {
   "cell_type": "code",
   "execution_count": 23,
   "metadata": {},
   "outputs": [
    {
     "data": {
      "text/plain": "(nan, 1j)"
     },
     "execution_count": 23,
     "metadata": {},
     "output_type": "execute_result"
    }
   ],
   "source": [
    "np.sqrt(-1) , np.emath.sqrt(-1)"
   ]
  },
  {
   "cell_type": "markdown",
   "metadata": {},
   "source": [
    "#### 33"
   ]
  },
  {
   "cell_type": "code",
   "execution_count": 27,
   "metadata": {},
   "outputs": [
    {
     "data": {
      "text/plain": "numpy.datetime64('2020-03-16')"
     },
     "execution_count": 27,
     "metadata": {},
     "output_type": "execute_result"
    }
   ],
   "source": [
    "yesterday = np.datetime64('today','D') - np.timedelta64(1,'D')\n",
    "yesterday"
   ]
  },
  {
   "cell_type": "markdown",
   "metadata": {},
   "source": [
    "#### 34"
   ]
  },
  {
   "cell_type": "code",
   "execution_count": 28,
   "metadata": {},
   "outputs": [
    {
     "data": {
      "text/plain": "array(['2020-07-01', '2020-07-02', '2020-07-03', '2020-07-04',\n       '2020-07-05', '2020-07-06', '2020-07-07', '2020-07-08',\n       '2020-07-09', '2020-07-10', '2020-07-11', '2020-07-12',\n       '2020-07-13', '2020-07-14', '2020-07-15', '2020-07-16',\n       '2020-07-17', '2020-07-18', '2020-07-19', '2020-07-20',\n       '2020-07-21', '2020-07-22', '2020-07-23', '2020-07-24',\n       '2020-07-25', '2020-07-26', '2020-07-27', '2020-07-28',\n       '2020-07-29', '2020-07-30', '2020-07-31'], dtype='datetime64[D]')"
     },
     "execution_count": 28,
     "metadata": {},
     "output_type": "execute_result"
    }
   ],
   "source": [
    "z = np.arange('2020-07','2020-08',dtype='datetime64[D]')\n",
    "z"
   ]
  },
  {
   "cell_type": "markdown",
   "metadata": {},
   "source": [
    "#### 35"
   ]
  },
  {
   "cell_type": "code",
   "execution_count": 30,
   "metadata": {},
   "outputs": [
    {
     "data": {
      "text/plain": "array([-1.5, -1.5, -1.5])"
     },
     "execution_count": 30,
     "metadata": {},
     "output_type": "execute_result"
    }
   ],
   "source": [
    "A = np.ones(3)*1\n",
    "B = np.ones(3)*2\n",
    "C = np.ones(3)*3\n",
    "\n",
    "np.add(A,B,out=B)\n",
    "np.divide(A,2,out = A)\n",
    "np.negative(A,out=A)\n",
    "np.multiply(A,B,out = A)"
   ]
  },
  {
   "cell_type": "markdown",
   "metadata": {},
   "source": [
    "#### 36"
   ]
  },
  {
   "cell_type": "code",
   "execution_count": 31,
   "metadata": {},
   "outputs": [
    {
     "data": {
      "text/plain": "array([5., 0., 4., 4., 2., 8., 7., 5., 4., 4.])"
     },
     "execution_count": 31,
     "metadata": {},
     "output_type": "execute_result"
    }
   ],
   "source": [
    "z = np.random.uniform(0,10,10)\n",
    "z - z % 1"
   ]
  },
  {
   "cell_type": "code",
   "execution_count": 32,
   "metadata": {},
   "outputs": [
    {
     "data": {
      "text/plain": "array([5., 0., 4., 4., 2., 8., 7., 5., 4., 4.])"
     },
     "execution_count": 32,
     "metadata": {},
     "output_type": "execute_result"
    }
   ],
   "source": [
    "np.floor(z)"
   ]
  },
  {
   "cell_type": "code",
   "execution_count": 33,
   "metadata": {},
   "outputs": [
    {
     "data": {
      "text/plain": "array([5., 0., 4., 4., 2., 8., 7., 5., 4., 4.])"
     },
     "execution_count": 33,
     "metadata": {},
     "output_type": "execute_result"
    }
   ],
   "source": [
    "np.ceil(z)-1"
   ]
  },
  {
   "cell_type": "code",
   "execution_count": 34,
   "metadata": {},
   "outputs": [
    {
     "data": {
      "text/plain": "array([5, 0, 4, 4, 2, 8, 7, 5, 4, 4])"
     },
     "execution_count": 34,
     "metadata": {},
     "output_type": "execute_result"
    }
   ],
   "source": [
    "z.astype(int)"
   ]
  },
  {
   "cell_type": "code",
   "execution_count": 35,
   "metadata": {},
   "outputs": [
    {
     "data": {
      "text/plain": "array([5., 0., 4., 4., 2., 8., 7., 5., 4., 4.])"
     },
     "execution_count": 35,
     "metadata": {},
     "output_type": "execute_result"
    }
   ],
   "source": [
    "np.trunc(z)"
   ]
  },
  {
   "cell_type": "markdown",
   "metadata": {},
   "source": [
    "#### 37"
   ]
  },
  {
   "cell_type": "code",
   "execution_count": 43,
   "metadata": {},
   "outputs": [
    {
     "data": {
      "text/plain": "array([[0., 1., 2., 3., 4.],\n       [0., 1., 2., 3., 4.],\n       [0., 1., 2., 3., 4.],\n       [0., 1., 2., 3., 4.],\n       [0., 1., 2., 3., 4.]])"
     },
     "execution_count": 43,
     "metadata": {},
     "output_type": "execute_result"
    }
   ],
   "source": [
    "z = np.zeros((5,5))\n",
    "z += np.arange(5)\n",
    "z\n",
    "\n",
    "\n",
    "\n"
   ]
  },
  {
   "cell_type": "markdown",
   "metadata": {},
   "source": [
    "#### 38"
   ]
  },
  {
   "cell_type": "code",
   "execution_count": 46,
   "metadata": {},
   "outputs": [
    {
     "data": {
      "text/plain": "array([0., 1., 2., 3., 4., 5., 6., 7., 8., 9.])"
     },
     "execution_count": 46,
     "metadata": {},
     "output_type": "execute_result"
    }
   ],
   "source": [
    "def gen():\n",
    "    for i in range(10):\n",
    "        yield i\n",
    "\n",
    "z  = np.fromiter(gen(),dtype=float,count=-1)\n",
    "z"
   ]
  },
  {
   "cell_type": "markdown",
   "metadata": {},
   "source": [
    "#### 39"
   ]
  },
  {
   "cell_type": "code",
   "execution_count": 50,
   "metadata": {},
   "outputs": [
    {
     "data": {
      "text/plain": "array([0.09090909, 0.18181818, 0.27272727, 0.36363636, 0.45454545,\n       0.54545455, 0.63636364, 0.72727273, 0.81818182, 0.90909091])"
     },
     "execution_count": 50,
     "metadata": {},
     "output_type": "execute_result"
    }
   ],
   "source": [
    "z = np.linspace(0,1,11,endpoint=False)[1:]\n",
    "z"
   ]
  },
  {
   "cell_type": "markdown",
   "metadata": {},
   "source": [
    "#### 40"
   ]
  },
  {
   "cell_type": "code",
   "execution_count": 52,
   "metadata": {},
   "outputs": [
    {
     "data": {
      "text/plain": "array([-1.6552821 , -0.99145467, -0.18294898, -0.09287297, -0.07464609,\n        0.2687804 ,  0.62201559,  0.7494757 ,  1.08838784,  1.20495656])"
     },
     "execution_count": 52,
     "metadata": {},
     "output_type": "execute_result"
    }
   ],
   "source": [
    "z = np.random.randn(10)\n",
    "z.sort()\n",
    "z"
   ]
  },
  {
   "cell_type": "markdown",
   "metadata": {},
   "source": [
    "#### 41"
   ]
  },
  {
   "cell_type": "code",
   "execution_count": 53,
   "metadata": {},
   "outputs": [
    {
     "data": {
      "text/plain": "45"
     },
     "execution_count": 53,
     "metadata": {},
     "output_type": "execute_result"
    }
   ],
   "source": [
    "z = np.arange(10)\n",
    "np.add.reduce(z)"
   ]
  },
  {
   "cell_type": "markdown",
   "metadata": {},
   "source": [
    "#### 42"
   ]
  },
  {
   "cell_type": "code",
   "execution_count": 55,
   "metadata": {},
   "outputs": [
    {
     "data": {
      "text/plain": "False"
     },
     "execution_count": 55,
     "metadata": {},
     "output_type": "execute_result"
    }
   ],
   "source": [
    "A = np.random.randint(0,2,5)\n",
    "B = np.random.randint(0,2,5)\n",
    "np.allclose(A,B)"
   ]
  },
  {
   "cell_type": "markdown",
   "metadata": {},
   "source": [
    "#### 43"
   ]
  },
  {
   "cell_type": "code",
   "execution_count": 56,
   "metadata": {},
   "outputs": [
    {
     "name": "stdout",
     "output_type": "stream",
     "text": "C_CONTIGUOUS : True\n  F_CONTIGUOUS : True\n  OWNDATA : True\n  WRITEABLE : True\n  ALIGNED : True\n  WRITEBACKIFCOPY : False\n  UPDATEIFCOPY : False\n\n"
    },
    {
     "ename": "AttributeError",
     "evalue": "'numpy.ndarray' object has no attribute 'falgs'",
     "output_type": "error",
     "traceback": [
      "\u001b[1;31m---------------------------------------------------------------------------\u001b[0m",
      "\u001b[1;31mAttributeError\u001b[0m                            Traceback (most recent call last)",
      "\u001b[1;32m<ipython-input-56-c5e85556d792>\u001b[0m in \u001b[0;36m<module>\u001b[1;34m()\u001b[0m\n\u001b[0;32m      1\u001b[0m \u001b[0mz\u001b[0m \u001b[1;33m=\u001b[0m \u001b[0mnp\u001b[0m\u001b[1;33m.\u001b[0m\u001b[0mzeros\u001b[0m\u001b[1;33m(\u001b[0m\u001b[1;36m10\u001b[0m\u001b[1;33m)\u001b[0m\u001b[1;33m\u001b[0m\u001b[1;33m\u001b[0m\u001b[0m\n\u001b[0;32m      2\u001b[0m \u001b[0mprint\u001b[0m\u001b[1;33m(\u001b[0m\u001b[0mz\u001b[0m\u001b[1;33m.\u001b[0m\u001b[0mflags\u001b[0m\u001b[1;33m)\u001b[0m\u001b[1;33m\u001b[0m\u001b[1;33m\u001b[0m\u001b[0m\n\u001b[1;32m----> 3\u001b[1;33m \u001b[0mz\u001b[0m\u001b[1;33m.\u001b[0m\u001b[0mfalgs\u001b[0m\u001b[1;33m.\u001b[0m\u001b[0mwriteable\u001b[0m \u001b[1;33m=\u001b[0m \u001b[1;32mFalse\u001b[0m\u001b[1;33m\u001b[0m\u001b[1;33m\u001b[0m\u001b[0m\n\u001b[0m\u001b[0;32m      4\u001b[0m \u001b[0mz\u001b[0m\u001b[1;33m[\u001b[0m\u001b[1;36m0\u001b[0m\u001b[1;33m]\u001b[0m \u001b[1;33m=\u001b[0m \u001b[1;36m1\u001b[0m\u001b[1;33m\u001b[0m\u001b[1;33m\u001b[0m\u001b[0m\n",
      "\u001b[1;31mAttributeError\u001b[0m: 'numpy.ndarray' object has no attribute 'falgs'"
     ]
    }
   ],
   "source": [
    "z = np.zeros(10)\n",
    "print(z.flags)\n",
    "z.falgs.writeable = False\n",
    "z[0] = 1"
   ]
  },
  {
   "cell_type": "markdown",
   "metadata": {},
   "source": [
    "#### 44"
   ]
  },
  {
   "cell_type": "code",
   "execution_count": 73,
   "metadata": {},
   "outputs": [
    {
     "name": "stdout",
     "output_type": "stream",
     "text": "(10,) [0.640552   0.40220108 0.15075893 0.0214264  0.88909563 0.96863461\n 0.70578968 0.2906305  0.58586418 0.10099881]\n"
    },
    {
     "data": {
      "text/plain": "(array([0.73945832, 0.96441919, 0.39314068, 0.82361759, 1.02618115,\n        1.16209918, 0.70789449, 0.80360402, 0.5951493 , 0.32527883]),\n array([1.04763673, 0.43018581, 0.39355412, 0.02601792, 1.0479712 ,\n        0.98545122, 1.49366262, 0.37004656, 1.39392305, 0.31571813]))"
     },
     "execution_count": 73,
     "metadata": {},
     "output_type": "execute_result"
    }
   ],
   "source": [
    "z = np.random.rand(10,2)\n",
    "x, y = z[:,0],z[:,1]\n",
    "r = np.sqrt(x**2+y**2)\n",
    "theta = np.arctan2(y,x)\n",
    "r,theta\n"
   ]
  },
  {
   "cell_type": "markdown",
   "metadata": {},
   "source": [
    "#### 45"
   ]
  },
  {
   "cell_type": "code",
   "execution_count": 76,
   "metadata": {},
   "outputs": [
    {
     "name": "stdout",
     "output_type": "stream",
     "text": "[0.54685878 0.39452653 0.0316379  0.32191533 0.80199042 0.06636017\n 0.43588428 0.16549305 0.3699599  0.65410473]\n"
    },
    {
     "data": {
      "text/plain": "array([0.54685878, 0.39452653, 0.0316379 , 0.32191533, 0.        ,\n       0.06636017, 0.43588428, 0.16549305, 0.3699599 , 0.65410473])"
     },
     "execution_count": 76,
     "metadata": {},
     "output_type": "execute_result"
    }
   ],
   "source": [
    "z = np.random.rand(10)\n",
    "print(z)\n",
    "z[z.argmax()] = 0\n",
    "z"
   ]
  },
  {
   "cell_type": "markdown",
   "metadata": {},
   "source": [
    "#### 46"
   ]
  },
  {
   "cell_type": "code",
   "execution_count": 83,
   "metadata": {},
   "outputs": [],
   "source": [
    "z = np.zeros((5,5),[('x',float),('y',float)])\n",
    "z = np.meshgrid(np.linspace(0,1,5),np.linspace(0,1,5))"
   ]
  },
  {
   "cell_type": "markdown",
   "metadata": {},
   "source": [
    "#### 47"
   ]
  },
  {
   "cell_type": "code",
   "execution_count": 84,
   "metadata": {},
   "outputs": [
    {
     "data": {
      "text/plain": "array([[-0.5, -1.5, -2.5, -3.5, -4.5, -5.5, -6.5, -7.5],\n       [ 0.5, -0.5, -1.5, -2.5, -3.5, -4.5, -5.5, -6.5],\n       [ 1.5,  0.5, -0.5, -1.5, -2.5, -3.5, -4.5, -5.5],\n       [ 2.5,  1.5,  0.5, -0.5, -1.5, -2.5, -3.5, -4.5],\n       [ 3.5,  2.5,  1.5,  0.5, -0.5, -1.5, -2.5, -3.5],\n       [ 4.5,  3.5,  2.5,  1.5,  0.5, -0.5, -1.5, -2.5],\n       [ 5.5,  4.5,  3.5,  2.5,  1.5,  0.5, -0.5, -1.5],\n       [ 6.5,  5.5,  4.5,  3.5,  2.5,  1.5,  0.5, -0.5]])"
     },
     "execution_count": 84,
     "metadata": {},
     "output_type": "execute_result"
    }
   ],
   "source": [
    "x = np.arange(8)\n",
    "y = x+0.5\n",
    "C = np.subtract.outer(x,y)\n",
    "C"
   ]
  },
  {
   "cell_type": "code",
   "execution_count": 85,
   "metadata": {},
   "outputs": [
    {
     "data": {
      "text/plain": "1.8457040860738383e-92"
     },
     "execution_count": 85,
     "metadata": {},
     "output_type": "execute_result"
    }
   ],
   "source": [
    "np.linalg.det(C)"
   ]
  },
  {
   "cell_type": "markdown",
   "metadata": {},
   "source": [
    "#### 48"
   ]
  },
  {
   "cell_type": "code",
   "execution_count": 88,
   "metadata": {},
   "outputs": [
    {
     "name": "stdout",
     "output_type": "stream",
     "text": "<class 'numpy.int8'>: min=-128, max = 127\n<class 'numpy.int16'>: min=-32768, max = 32767\n<class 'numpy.int32'>: min=-2147483648, max = 2147483647\n<class 'numpy.int64'>: min=-9223372036854775808, max = 9223372036854775807\n<class 'numpy.float16'>: min=-65504.0, max =65504.0\n<class 'numpy.float32'>: min=-3.4028234663852886e+38, max =3.4028234663852886e+38\n<class 'numpy.float64'>: min=-1.7976931348623157e+308, max =1.7976931348623157e+308\n"
    }
   ],
   "source": [
    "for dtype in [np.int8, np.int16, np.int32, np.int64]:\n",
    "    info = np.iinfo(dtype)\n",
    "    print(f\"{dtype}: min={info.min}, max = {info.max}\")\n",
    "for dtype in [np.float16, np.float32, np.float64]:\n",
    "    info = np.finfo(dtype)\n",
    "    print(f\"{dtype}: min={info.min}, max ={info.max}\")"
   ]
  },
  {
   "cell_type": "markdown",
   "metadata": {},
   "source": [
    "#### 49"
   ]
  },
  {
   "cell_type": "code",
   "execution_count": 89,
   "metadata": {},
   "outputs": [
    {
     "name": "stdout",
     "output_type": "stream",
     "text": "[[1. 1. 1. 1. 1. 1. 1. 1. 1. 1.]\n [1. 1. 1. 1. 1. 1. 1. 1. 1. 1.]\n [1. 1. 1. 1. 1. 1. 1. 1. 1. 1.]\n [1. 1. 1. 1. 1. 1. 1. 1. 1. 1.]\n [1. 1. 1. 1. 1. 1. 1. 1. 1. 1.]\n [1. 1. 1. 1. 1. 1. 1. 1. 1. 1.]\n [1. 1. 1. 1. 1. 1. 1. 1. 1. 1.]\n [1. 1. 1. 1. 1. 1. 1. 1. 1. 1.]\n [1. 1. 1. 1. 1. 1. 1. 1. 1. 1.]\n [1. 1. 1. 1. 1. 1. 1. 1. 1. 1.]]\n"
    }
   ],
   "source": [
    "z = np.ones((10,10))\n",
    "print(z)"
   ]
  },
  {
   "cell_type": "markdown",
   "metadata": {},
   "source": [
    "#### 50 "
   ]
  },
  {
   "cell_type": "code",
   "execution_count": 90,
   "metadata": {},
   "outputs": [
    {
     "name": "stdout",
     "output_type": "stream",
     "text": "2\n"
    },
    {
     "data": {
      "text/plain": "0.3363890940306137"
     },
     "execution_count": 90,
     "metadata": {},
     "output_type": "execute_result"
    }
   ],
   "source": [
    "z = np.random.uniform(0,1,10)\n",
    "x = 0.5\n",
    "index = np.abs(z-x).argmin()\n",
    "print(index)\n",
    "z[index]"
   ]
  },
  {
   "cell_type": "markdown",
   "metadata": {},
   "source": [
    "#### 51"
   ]
  },
  {
   "cell_type": "code",
   "execution_count": 92,
   "metadata": {},
   "outputs": [
    {
     "data": {
      "text/plain": "array([((0., 0.), (0., 0., 0.)), ((0., 0.), (0., 0., 0.)),\n       ((0., 0.), (0., 0., 0.)), ((0., 0.), (0., 0., 0.)),\n       ((0., 0.), (0., 0., 0.)), ((0., 0.), (0., 0., 0.)),\n       ((0., 0.), (0., 0., 0.)), ((0., 0.), (0., 0., 0.)),\n       ((0., 0.), (0., 0., 0.)), ((0., 0.), (0., 0., 0.))],\n      dtype=[('position', [('x', '<f8'), ('y', '<f8')]), ('color', [('r', '<f8'), ('g', '<f8'), ('b', '<f8')])])"
     },
     "execution_count": 92,
     "metadata": {},
     "output_type": "execute_result"
    }
   ],
   "source": [
    "z = np.zeros(10,[('position',[('x',float,1),('y',float,1)]),('color',[('r',float,1),('g',float,1),('b',float,1)])])\n",
    "z"
   ]
  },
  {
   "cell_type": "markdown",
   "metadata": {},
   "source": [
    "#### 52"
   ]
  },
  {
   "cell_type": "code",
   "execution_count": 5,
   "metadata": {},
   "outputs": [
    {
     "data": {
      "text/plain": "array([[0.        , 0.48679789, 0.6459849 , 0.43792857, 0.80568662,\n        0.2726381 , 0.16159064, 0.46906422, 0.59369554, 0.32918498],\n       [0.48679789, 0.        , 0.16288193, 0.26507374, 0.33619888,\n        0.63855064, 0.52084409, 0.24042145, 0.56842052, 0.40703463],\n       [0.6459849 , 0.16288193, 0.        , 0.3397451 , 0.17790449,\n        0.79971556, 0.68343353, 0.30081787, 0.6773889 , 0.55619996],\n       [0.43792857, 0.26507374, 0.3397451 , 0.        , 0.43754206,\n        0.67786109, 0.54827328, 0.04281356, 0.76981922, 0.54175831],\n       [0.80568662, 0.33619888, 0.17790449, 0.43754206, 0.        ,\n        0.97474064, 0.8559579 , 0.39473346, 0.84321092, 0.73407464],\n       [0.2726381 , 0.63855064, 0.79971556, 0.67786109, 0.97474064,\n        0.        , 0.12960343, 0.70094605, 0.46187433, 0.2841979 ],\n       [0.16159064, 0.52084409, 0.68343353, 0.54827328, 0.8559579 ,\n        0.12960343, 0.        , 0.57145954, 0.46166515, 0.22271217],\n       [0.46906422, 0.24042145, 0.30081787, 0.04281356, 0.39473346,\n        0.70094605, 0.57145954, 0.        , 0.76697731, 0.54888726],\n       [0.59369554, 0.56842052, 0.6773889 , 0.76981922, 0.84321092,\n        0.46187433, 0.46166515, 0.76697731, 0.        , 0.26944595],\n       [0.32918498, 0.40703463, 0.55619996, 0.54175831, 0.73407464,\n        0.2841979 , 0.22271217, 0.54888726, 0.26944595, 0.        ]])"
     },
     "execution_count": 5,
     "metadata": {},
     "output_type": "execute_result"
    }
   ],
   "source": [
    "import numpy as np\n",
    "z = np.random.rand(10,2)\n",
    "x,y = np.atleast_2d(z[:,0],z[:,1])\n",
    "d = np.sqrt((x-x.T)**2 + (y-y.T)**2)\n",
    "d"
   ]
  },
  {
   "cell_type": "markdown",
   "metadata": {},
   "source": [
    "#### 53"
   ]
  },
  {
   "cell_type": "code",
   "execution_count": 6,
   "metadata": {},
   "outputs": [
    {
     "data": {
      "text/plain": "array([0., 0., 0., 0., 0., 0., 0., 0., 0., 0.], dtype=float32)"
     },
     "execution_count": 6,
     "metadata": {},
     "output_type": "execute_result"
    }
   ],
   "source": [
    "z = np.zeros(10,dtype=np.float32)\n",
    "z"
   ]
  },
  {
   "cell_type": "code",
   "execution_count": 8,
   "metadata": {},
   "outputs": [
    {
     "data": {
      "text/plain": "array([0, 0, 0, 0, 0, 0, 0, 0, 0, 0])"
     },
     "execution_count": 8,
     "metadata": {},
     "output_type": "execute_result"
    }
   ],
   "source": [
    "z = z.astype(np.int32,copy=False)\n",
    "z"
   ]
  },
  {
   "cell_type": "markdown",
   "metadata": {},
   "source": [
    "#### 54"
   ]
  },
  {
   "cell_type": "code",
   "execution_count": 9,
   "metadata": {},
   "outputs": [
    {
     "data": {
      "text/plain": "array([[ 1.,  2.,  3.,  4.,  5.],\n       [ 6., nan, nan,  7.,  8.],\n       [nan, nan,  9., 10., 11.]])"
     },
     "execution_count": 9,
     "metadata": {},
     "output_type": "execute_result"
    }
   ],
   "source": [
    "from io import StringIO\n",
    "s = StringIO(\"1, 2, 3, 4, 5\\n 6,  ,  , 7, 8\\n ,  , 9,10,11\\n\")\n",
    "z = np.genfromtxt(s, delimiter=\",\", missing_values=' ')\n",
    "z"
   ]
  },
  {
   "cell_type": "markdown",
   "metadata": {},
   "source": [
    "#### 55"
   ]
  },
  {
   "cell_type": "code",
   "execution_count": 11,
   "metadata": {},
   "outputs": [
    {
     "name": "stdout",
     "output_type": "stream",
     "text": "(0, 0) 0\n(0, 1) 1\n(0, 2) 2\n(1, 0) 3\n(1, 1) 4\n(1, 2) 5\n(2, 0) 6\n(2, 1) 7\n(2, 2) 8\n"
    }
   ],
   "source": [
    "z = np.arange(9).reshape(3,3)\n",
    "for index,value in np.ndenumerate(z):\n",
    "    print(index,value)"
   ]
  },
  {
   "cell_type": "markdown",
   "metadata": {},
   "source": [
    "#### 56"
   ]
  },
  {
   "cell_type": "code",
   "execution_count": 12,
   "metadata": {},
   "outputs": [
    {
     "data": {
      "text/plain": "array([[0.36787944, 0.44822088, 0.51979489, 0.57375342, 0.60279818,\n        0.60279818, 0.57375342, 0.51979489, 0.44822088, 0.36787944],\n       [0.44822088, 0.54610814, 0.63331324, 0.69905581, 0.73444367,\n        0.73444367, 0.69905581, 0.63331324, 0.54610814, 0.44822088],\n       [0.51979489, 0.63331324, 0.73444367, 0.81068432, 0.85172308,\n        0.85172308, 0.81068432, 0.73444367, 0.63331324, 0.51979489],\n       [0.57375342, 0.69905581, 0.81068432, 0.89483932, 0.9401382 ,\n        0.9401382 , 0.89483932, 0.81068432, 0.69905581, 0.57375342],\n       [0.60279818, 0.73444367, 0.85172308, 0.9401382 , 0.98773022,\n        0.98773022, 0.9401382 , 0.85172308, 0.73444367, 0.60279818],\n       [0.60279818, 0.73444367, 0.85172308, 0.9401382 , 0.98773022,\n        0.98773022, 0.9401382 , 0.85172308, 0.73444367, 0.60279818],\n       [0.57375342, 0.69905581, 0.81068432, 0.89483932, 0.9401382 ,\n        0.9401382 , 0.89483932, 0.81068432, 0.69905581, 0.57375342],\n       [0.51979489, 0.63331324, 0.73444367, 0.81068432, 0.85172308,\n        0.85172308, 0.81068432, 0.73444367, 0.63331324, 0.51979489],\n       [0.44822088, 0.54610814, 0.63331324, 0.69905581, 0.73444367,\n        0.73444367, 0.69905581, 0.63331324, 0.54610814, 0.44822088],\n       [0.36787944, 0.44822088, 0.51979489, 0.57375342, 0.60279818,\n        0.60279818, 0.57375342, 0.51979489, 0.44822088, 0.36787944]])"
     },
     "execution_count": 12,
     "metadata": {},
     "output_type": "execute_result"
    }
   ],
   "source": [
    "X, Y = np.meshgrid(np.linspace(-1,1,10),np.linspace(-1,1,10))\n",
    "D = np.sqrt(X*X+Y*Y)\n",
    "sigma, mu = 1.0,0.0\n",
    "G = np.exp(-(D-mu)**2/(2.0 * sigma **2))\n",
    "G"
   ]
  },
  {
   "cell_type": "markdown",
   "metadata": {},
   "source": [
    "#### 57"
   ]
  },
  {
   "cell_type": "code",
   "execution_count": 15,
   "metadata": {},
   "outputs": [
    {
     "name": "stdout",
     "output_type": "stream",
     "text": "[ 5 12  8]\n"
    },
    {
     "data": {
      "text/plain": "array([[0., 0., 0., 0., 0.],\n       [0., 0., 1., 0., 0.],\n       [0., 0., 0., 0., 1.],\n       [0., 1., 0., 0., 0.],\n       [0., 0., 0., 0., 0.]])"
     },
     "execution_count": 15,
     "metadata": {},
     "output_type": "execute_result"
    }
   ],
   "source": [
    "n = 5\n",
    "p = 3\n",
    "z = np.zeros((n,n))\n",
    "np.put(z,np.random.choice(range(n*n),p),1)\n",
    "print(np.random.choice(range(n*n),p))\n",
    "z"
   ]
  },
  {
   "cell_type": "markdown",
   "metadata": {},
   "source": [
    "#### 58"
   ]
  },
  {
   "cell_type": "code",
   "execution_count": 16,
   "metadata": {},
   "outputs": [
    {
     "data": {
      "text/plain": "array([[-2., -1.,  0.,  1.,  2.],\n       [-2., -1.,  0.,  1.,  2.]])"
     },
     "execution_count": 16,
     "metadata": {},
     "output_type": "execute_result"
    }
   ],
   "source": [
    "z = np.arange(10).reshape(2,5)\n",
    "z_new = z-z.mean(axis=1,keepdims=True)\n",
    "z_new"
   ]
  },
  {
   "cell_type": "markdown",
   "metadata": {},
   "source": [
    "#### 59"
   ]
  },
  {
   "cell_type": "code",
   "execution_count": 17,
   "metadata": {},
   "outputs": [
    {
     "name": "stdout",
     "output_type": "stream",
     "text": "[[5 9 3]\n [5 6 5]\n [0 7 3]]\n"
    },
    {
     "data": {
      "text/plain": "array([[5, 6, 5],\n       [0, 7, 3],\n       [5, 9, 3]])"
     },
     "execution_count": 17,
     "metadata": {},
     "output_type": "execute_result"
    }
   ],
   "source": [
    "z = np.random.randint(0,10,(3,3))\n",
    "print(z)\n",
    "z[z[:,1].argsort(),]"
   ]
  },
  {
   "cell_type": "markdown",
   "metadata": {},
   "source": [
    "#### 60"
   ]
  },
  {
   "cell_type": "code",
   "execution_count": null,
   "metadata": {},
   "outputs": [],
   "source": []
  },
  {
   "cell_type": "code",
   "execution_count": null,
   "metadata": {},
   "outputs": [],
   "source": []
  },
  {
   "cell_type": "code",
   "execution_count": null,
   "metadata": {},
   "outputs": [],
   "source": []
  },
  {
   "cell_type": "code",
   "execution_count": null,
   "metadata": {},
   "outputs": [],
   "source": []
  },
  {
   "cell_type": "code",
   "execution_count": null,
   "metadata": {},
   "outputs": [],
   "source": []
  },
  {
   "cell_type": "code",
   "execution_count": null,
   "metadata": {},
   "outputs": [],
   "source": [
    "\n",
    "\n",
    "\n",
    "\n",
    "\n",
    "\n",
    "\n"
   ]
  }
 ]
}