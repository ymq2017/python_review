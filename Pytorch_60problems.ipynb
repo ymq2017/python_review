{
 "nbformat": 4,
 "nbformat_minor": 2,
 "metadata": {
  "language_info": {
   "name": "python",
   "codemirror_mode": {
    "name": "ipython",
    "version": 3
   },
   "version": "3.6.10-final"
  },
  "orig_nbformat": 2,
  "file_extension": ".py",
  "mimetype": "text/x-python",
  "name": "python",
  "npconvert_exporter": "python",
  "pygments_lexer": "ipython3",
  "version": 3,
  "kernelspec": {
   "name": "python361064bitbasecondab1e38a44877a48f7be2c41e96452a6ec",
   "display_name": "Python 3.6.10 64-bit ('base': conda)"
  }
 },
 "cells": [
  {
   "cell_type": "markdown",
   "metadata": {},
   "source": [
    "# PyTorch 60 题"
   ]
  },
  {
   "cell_type": "markdown",
   "metadata": {},
   "source": [
    "#### 1"
   ]
  },
  {
   "cell_type": "code",
   "execution_count": 1,
   "metadata": {},
   "outputs": [],
   "source": [
    "import torch"
   ]
  },
  {
   "cell_type": "markdown",
   "metadata": {},
   "source": [
    "#### 2"
   ]
  },
  {
   "cell_type": "code",
   "execution_count": 2,
   "metadata": {},
   "outputs": [
    {
     "name": "stdout",
     "output_type": "stream",
     "text": "tensor([[1.0653e-38, 1.0194e-38, 8.4490e-39],\n        [1.0102e-38, 8.4490e-39, 9.6429e-39],\n        [8.4490e-39, 9.6429e-39, 9.2755e-39],\n        [1.0286e-38, 9.0919e-39, 8.9082e-39],\n        [9.2755e-39, 8.4490e-39, 1.0194e-38]])\n"
    }
   ],
   "source": [
    "x = torch.empty(5,3)\n",
    "print(x)"
   ]
  },
  {
   "cell_type": "markdown",
   "metadata": {},
   "source": [
    "#### 3"
   ]
  },
  {
   "cell_type": "code",
   "execution_count": 3,
   "metadata": {},
   "outputs": [
    {
     "name": "stdout",
     "output_type": "stream",
     "text": "tensor([[0.3756, 0.5636, 0.9596],\n        [0.3562, 0.2676, 0.8324],\n        [0.1331, 0.8942, 0.8871],\n        [0.2006, 0.1771, 0.1161],\n        [0.0051, 0.5321, 0.6614]])\n"
    }
   ],
   "source": [
    "x = torch.rand(5,3)\n",
    "print(x)"
   ]
  },
  {
   "cell_type": "markdown",
   "metadata": {},
   "source": [
    "#### 4"
   ]
  },
  {
   "cell_type": "code",
   "execution_count": 4,
   "metadata": {},
   "outputs": [
    {
     "name": "stdout",
     "output_type": "stream",
     "text": "tensor([[0, 0, 0],\n        [0, 0, 0],\n        [0, 0, 0],\n        [0, 0, 0],\n        [0, 0, 0]])\n"
    }
   ],
   "source": [
    "x = torch.zeros(5,3,dtype=torch.long)\n",
    "print(x)"
   ]
  },
  {
   "cell_type": "markdown",
   "metadata": {},
   "source": [
    "#### 5"
   ]
  },
  {
   "cell_type": "code",
   "execution_count": 5,
   "metadata": {},
   "outputs": [
    {
     "name": "stdout",
     "output_type": "stream",
     "text": "tensor([5.5000, 3.0000])\n"
    }
   ],
   "source": [
    "x = torch.tensor([5.5,3])\n",
    "print(x)"
   ]
  },
  {
   "cell_type": "markdown",
   "metadata": {},
   "source": [
    "#### 6"
   ]
  },
  {
   "cell_type": "code",
   "execution_count": 6,
   "metadata": {},
   "outputs": [
    {
     "name": "stdout",
     "output_type": "stream",
     "text": "tensor([[1., 1., 1.],\n        [1., 1., 1.],\n        [1., 1., 1.],\n        [1., 1., 1.],\n        [1., 1., 1.]], dtype=torch.float64)\n"
    }
   ],
   "source": [
    "x = torch.ones(5,3,dtype=torch.double)\n",
    "print(x)"
   ]
  },
  {
   "cell_type": "markdown",
   "metadata": {},
   "source": [
    "#### 7"
   ]
  },
  {
   "cell_type": "code",
   "execution_count": 7,
   "metadata": {},
   "outputs": [
    {
     "name": "stdout",
     "output_type": "stream",
     "text": "tensor([[ 0.3302, -0.7513,  0.2318],\n        [ 0.1156, -1.2881, -0.1099],\n        [-0.8707,  0.0108,  1.8588],\n        [ 1.1653,  0.7024, -0.2520],\n        [-1.0347, -0.0338, -1.4327]])\n"
    }
   ],
   "source": [
    "x = torch.randn_like(x,dtype=torch.float)\n",
    "print(x)\n"
   ]
  },
  {
   "cell_type": "markdown",
   "metadata": {},
   "source": [
    "#### 8"
   ]
  },
  {
   "cell_type": "code",
   "execution_count": 8,
   "metadata": {},
   "outputs": [
    {
     "name": "stdout",
     "output_type": "stream",
     "text": "torch.Size([5, 3])\n"
    }
   ],
   "source": [
    "print(x.size())"
   ]
  },
  {
   "cell_type": "markdown",
   "metadata": {},
   "source": [
    "#### 9"
   ]
  },
  {
   "cell_type": "code",
   "execution_count": 11,
   "metadata": {},
   "outputs": [
    {
     "name": "stdout",
     "output_type": "stream",
     "text": "tensor([[ 1.2612,  0.0843,  0.5098],\n        [ 0.9415, -0.6839,  0.6398],\n        [-0.1950,  0.5184,  2.0295],\n        [ 2.0618,  1.0069,  0.4971],\n        [-0.4857,  0.4139, -0.8208]])\n"
    }
   ],
   "source": [
    "y = torch.rand(5,3)\n",
    "print(x+y)"
   ]
  },
  {
   "cell_type": "markdown",
   "metadata": {},
   "source": [
    "#### 10"
   ]
  },
  {
   "cell_type": "code",
   "execution_count": 14,
   "metadata": {},
   "outputs": [
    {
     "name": "stdout",
     "output_type": "stream",
     "text": "tensor([-0.7513, -1.2881,  0.0108,  0.7024, -0.0338])\n"
    }
   ],
   "source": [
    "print(x[:,1])"
   ]
  },
  {
   "cell_type": "markdown",
   "metadata": {},
   "source": [
    "#### 11"
   ]
  },
  {
   "cell_type": "code",
   "execution_count": 15,
   "metadata": {},
   "outputs": [
    {
     "name": "stdout",
     "output_type": "stream",
     "text": "torch.Size([4, 4]) torch.Size([16])\n"
    }
   ],
   "source": [
    "x = torch.randn(4,4)\n",
    "y = x.view(16)\n",
    "print(x.size(),y.size())"
   ]
  },
  {
   "cell_type": "markdown",
   "metadata": {},
   "source": [
    "#### 12"
   ]
  },
  {
   "cell_type": "code",
   "execution_count": 16,
   "metadata": {},
   "outputs": [
    {
     "name": "stdout",
     "output_type": "stream",
     "text": "tensor([[ 0.6302,  0.3446,  0.4983,  0.7438, -1.4859,  0.6043,  1.6269, -0.2117],\n        [-1.6602,  1.5044, -0.2189, -0.5096,  1.3949, -0.5415, -1.5119, -0.9645]])\n"
    }
   ],
   "source": [
    "y = x.view(2,8)\n",
    "print(y)"
   ]
  },
  {
   "cell_type": "markdown",
   "metadata": {},
   "source": [
    "#### 13"
   ]
  },
  {
   "cell_type": "code",
   "execution_count": 17,
   "metadata": {},
   "outputs": [
    {
     "name": "stdout",
     "output_type": "stream",
     "text": "tensor([1.0099])\n1.0098731517791748\n"
    }
   ],
   "source": [
    "x = torch.randn(1)\n",
    "print(x)\n",
    "print(x.item())"
   ]
  },
  {
   "cell_type": "markdown",
   "metadata": {},
   "source": [
    "#### 14"
   ]
  },
  {
   "cell_type": "code",
   "execution_count": 21,
   "metadata": {},
   "outputs": [
    {
     "name": "stdout",
     "output_type": "stream",
     "text": "tensor([1., 1., 1., 1., 1.])\n[1. 1. 1. 1. 1.]\n"
    }
   ],
   "source": [
    "a = torch.ones(5)\n",
    "print(a)\n",
    "b = a.numpy()\n",
    "print(b)"
   ]
  },
  {
   "cell_type": "markdown",
   "metadata": {},
   "source": [
    "#### 15"
   ]
  },
  {
   "cell_type": "code",
   "execution_count": 23,
   "metadata": {},
   "outputs": [
    {
     "name": "stdout",
     "output_type": "stream",
     "text": "tensor([2., 2., 2., 2., 2.])\ntensor([1., 1., 1., 1., 1.])\n[1. 1. 1. 1. 1.]\n"
    }
   ],
   "source": [
    "\n",
    "print(a.add(1))\n",
    "print(a)\n",
    "print(b)"
   ]
  },
  {
   "cell_type": "markdown",
   "metadata": {},
   "source": [
    "#### 16"
   ]
  },
  {
   "cell_type": "code",
   "execution_count": 24,
   "metadata": {},
   "outputs": [
    {
     "name": "stdout",
     "output_type": "stream",
     "text": "[1. 1. 1. 1. 1.]\ntensor([1., 1., 1., 1., 1.], dtype=torch.float64)\n"
    }
   ],
   "source": [
    "import numpy as np\n",
    "a = np.ones(5)\n",
    "b = torch.from_numpy(a)\n",
    "print(a)\n",
    "print(b)"
   ]
  },
  {
   "cell_type": "markdown",
   "metadata": {},
   "source": [
    "#### 17"
   ]
  },
  {
   "cell_type": "code",
   "execution_count": 25,
   "metadata": {},
   "outputs": [
    {
     "name": "stdout",
     "output_type": "stream",
     "text": "[2. 2. 2. 2. 2.]\ntensor([2., 2., 2., 2., 2.], dtype=torch.float64)\n"
    }
   ],
   "source": [
    "np.add(a,1,out=a)\n",
    "print(a)\n",
    "print(b)"
   ]
  },
  {
   "cell_type": "markdown",
   "metadata": {},
   "source": [
    "#### 18"
   ]
  },
  {
   "cell_type": "code",
   "execution_count": 26,
   "metadata": {},
   "outputs": [
    {
     "name": "stdout",
     "output_type": "stream",
     "text": "tensor([[1., 1.],\n        [1., 1.]], requires_grad=True)\n"
    }
   ],
   "source": [
    "x = torch.ones(2,2,requires_grad=True)\n",
    "print(x)"
   ]
  },
  {
   "cell_type": "markdown",
   "metadata": {},
   "source": [
    "#### 19"
   ]
  },
  {
   "cell_type": "code",
   "execution_count": 27,
   "metadata": {},
   "outputs": [
    {
     "name": "stdout",
     "output_type": "stream",
     "text": "tensor([[3., 3.],\n        [3., 3.]], grad_fn=<AddBackward0>)\n<AddBackward0 object at 0x000001FB01D41588>\n"
    }
   ],
   "source": [
    "y = x+2\n",
    "print(y)\n",
    "print(y.grad_fn)"
   ]
  },
  {
   "cell_type": "markdown",
   "metadata": {},
   "source": [
    "#### 20"
   ]
  },
  {
   "cell_type": "code",
   "execution_count": 28,
   "metadata": {},
   "outputs": [
    {
     "name": "stdout",
     "output_type": "stream",
     "text": "tensor([[27., 27.],\n        [27., 27.]], grad_fn=<MulBackward0>)\ntensor(27., grad_fn=<MeanBackward0>)\n"
    }
   ],
   "source": [
    "z = y*y*3\n",
    "out = z.mean()\n",
    "print(z)\n",
    "print(out)"
   ]
  },
  {
   "cell_type": "markdown",
   "metadata": {},
   "source": [
    "#### 21"
   ]
  },
  {
   "cell_type": "code",
   "execution_count": 29,
   "metadata": {},
   "outputs": [],
   "source": [
    "out.backward()"
   ]
  },
  {
   "cell_type": "markdown",
   "metadata": {},
   "source": [
    "#### 22"
   ]
  },
  {
   "cell_type": "code",
   "execution_count": 31,
   "metadata": {},
   "outputs": [
    {
     "name": "stdout",
     "output_type": "stream",
     "text": "tensor([[4.5000, 4.5000],\n        [4.5000, 4.5000]])\n"
    }
   ],
   "source": [
    "print(x.grad)"
   ]
  },
  {
   "cell_type": "markdown",
   "metadata": {},
   "source": [
    "#### 23"
   ]
  },
  {
   "cell_type": "code",
   "execution_count": 35,
   "metadata": {},
   "outputs": [
    {
     "name": "stdout",
     "output_type": "stream",
     "text": "tensor([-200.1039, -713.9232, -851.6977], grad_fn=<MulBackward0>)\ntensor([-200.1039, -713.9232, -851.6977])\ntensor(1129.2107)\n"
    }
   ],
   "source": [
    "x = torch.randn(3,requires_grad= True)\n",
    "y = x*2\n",
    "\n",
    "while y.data.norm()<1000:\n",
    "    y = y*2\n",
    "\n",
    "print(y)\n",
    "print(y.data)\n",
    "print(y.data.norm())\n"
   ]
  },
  {
   "cell_type": "markdown",
   "metadata": {},
   "source": [
    "#### 24"
   ]
  },
  {
   "cell_type": "code",
   "execution_count": 36,
   "metadata": {},
   "outputs": [
    {
     "name": "stdout",
     "output_type": "stream",
     "text": "tensor([1.0240e+02, 1.0240e+03, 1.0240e-01])\n"
    }
   ],
   "source": [
    "v = torch.tensor([0.1,1.0,0.0001],dtype=torch.float)\n",
    "y.backward(v)\n",
    "print(x.grad)"
   ]
  },
  {
   "cell_type": "markdown",
   "metadata": {},
   "source": [
    "#### 25"
   ]
  },
  {
   "cell_type": "code",
   "execution_count": 37,
   "metadata": {},
   "outputs": [
    {
     "name": "stdout",
     "output_type": "stream",
     "text": "True\nTrue\nFalse\n"
    }
   ],
   "source": [
    "print(x.requires_grad)\n",
    "print((x**2).requires_grad)\n",
    "\n",
    "with torch.no_grad():\n",
    "    print ((x**2).requires_grad)"
   ]
  },
  {
   "cell_type": "code",
   "execution_count": 38,
   "metadata": {},
   "outputs": [
    {
     "name": "stdout",
     "output_type": "stream",
     "text": "True\nFalse\ntensor(True)\n"
    }
   ],
   "source": [
    "print(x.requires_grad)\n",
    "y = x.detach()\n",
    "print(y.requires_grad)\n",
    "print(x.eq(y).all())"
   ]
  },
  {
   "cell_type": "markdown",
   "metadata": {},
   "source": [
    "#### 26"
   ]
  },
  {
   "cell_type": "code",
   "execution_count": 11,
   "metadata": {},
   "outputs": [
    {
     "output_type": "stream",
     "name": "stdout",
     "text": "Net(\n  (conv1): Conv2d(3, 6, kernel_size=(5, 5), stride=(1, 1))\n  (conv2): Conv2d(6, 16, kernel_size=(5, 5), stride=(1, 1))\n  (fc1): Linear(in_features=400, out_features=120, bias=True)\n  (fc2): Linear(in_features=120, out_features=84, bias=True)\n  (fc3): Linear(in_features=84, out_features=10, bias=True)\n)\n"
    }
   ],
   "source": [
    "import torch\n",
    "import torch.nn as nn\n",
    "import torch.nn.functional as F\n",
    "\n",
    "class Net(nn.Module):\n",
    "    def __init__(self):\n",
    "        super(Net,self).__init__()\n",
    "        self.conv1 = nn.Conv2d(3,6,5)\n",
    "        self.conv2 = nn.Conv2d(6,16,5)\n",
    "        self.fc1 = nn.Linear(16*5*5, 120 )\n",
    "        self.fc2 = nn.Linear(120,84)\n",
    "        self.fc3 = nn.Linear(84,10)\n",
    "\n",
    "    def forward(self,x):\n",
    "        x = F.max_pool2d(F.relu(self.conv1(x)),(2,2))\n",
    "        x = F.max_pool2d(F.relu(self.conv2(x)),2)\n",
    "        x = x.view(-1,16*5*5)\n",
    "        x = F.relu(self.fc1(x))\n",
    "        x = F.relu(self.fc2(x))\n",
    "        x = F.relu(self.fc3(x))\n",
    "        return x\n",
    "\n",
    "net = Net()\n",
    "print(net)\n",
    "\n",
    "\n",
    ""
   ]
  },
  {
   "cell_type": "markdown",
   "metadata": {},
   "source": [
    "#### 37"
   ]
  },
  {
   "cell_type": "code",
   "execution_count": 54,
   "metadata": {
    "tags": [
     "outputPrepend"
    ]
   },
   "outputs": [
    {
     "output_type": "stream",
     "name": "stdout",
     "text": "10\n"
    }
   ],
   "source": [
    "params = list(net.parameters())\n",
    "print(len(params))\n",
    "# print(params)"
   ]
  },
  {
   "cell_type": "markdown",
   "metadata": {},
   "source": [
    "#### 38"
   ]
  },
  {
   "cell_type": "code",
   "execution_count": 55,
   "metadata": {},
   "outputs": [
    {
     "output_type": "stream",
     "name": "stdout",
     "text": "torch.Size([6, 3, 5, 5])\n"
    }
   ],
   "source": [
    "print(params[0].size())"
   ]
  },
  {
   "cell_type": "markdown",
   "metadata": {},
   "source": [
    "#### 39"
   ]
  },
  {
   "cell_type": "code",
   "execution_count": 56,
   "metadata": {},
   "outputs": [
    {
     "output_type": "stream",
     "name": "stdout",
     "text": "tensor([[0.0116, 0.0000, 0.1321, 0.0000, 0.0000, 0.0000, 0.0000, 0.0228, 0.0483,\n         0.0000]], grad_fn=<ReluBackward0>)\n"
    }
   ],
   "source": [
    "input = torch.randn(1,3,32,32)\n",
    "out = net(input)\n",
    "print(out)"
   ]
  },
  {
   "cell_type": "markdown",
   "metadata": {},
   "source": [
    "#### 40"
   ]
  },
  {
   "cell_type": "code",
   "execution_count": 57,
   "metadata": {},
   "outputs": [],
   "source": [
    "net.zero_grad()"
   ]
  },
  {
   "cell_type": "markdown",
   "metadata": {},
   "source": [
    "#### 41"
   ]
  },
  {
   "cell_type": "code",
   "execution_count": 47,
   "metadata": {},
   "outputs": [],
   "source": [
    "out.backward(torch.randn(1,10))"
   ]
  },
  {
   "cell_type": "markdown",
   "metadata": {},
   "source": [
    "#### 42"
   ]
  },
  {
   "cell_type": "code",
   "execution_count": 58,
   "metadata": {},
   "outputs": [],
   "source": [
    "criterion = nn.MSELoss()"
   ]
  },
  {
   "cell_type": "markdown",
   "metadata": {},
   "source": [
    "#### 43"
   ]
  },
  {
   "cell_type": "code",
   "execution_count": 59,
   "metadata": {},
   "outputs": [
    {
     "output_type": "stream",
     "name": "stdout",
     "text": "tensor(1.6132, grad_fn=<MseLossBackward>)\n"
    }
   ],
   "source": [
    "target = torch.randn(10)\n",
    "target = target.view(1,-1)\n",
    "output = net(input)\n",
    "loss = criterion(out,target)\n",
    "print(loss)"
   ]
  },
  {
   "cell_type": "markdown",
   "metadata": {},
   "source": [
    "#### 44"
   ]
  },
  {
   "cell_type": "code",
   "execution_count": 60,
   "metadata": {},
   "outputs": [
    {
     "output_type": "stream",
     "name": "stdout",
     "text": "conv1.bias.grad before backward\nNone\n"
    }
   ],
   "source": [
    "net.zero_grad()\n",
    "print('conv1.bias.grad before backward')\n",
    "print(net.conv1.bias.grad)"
   ]
  },
  {
   "cell_type": "markdown",
   "metadata": {},
   "source": [
    "#### 45"
   ]
  },
  {
   "cell_type": "code",
   "execution_count": 61,
   "metadata": {},
   "outputs": [
    {
     "output_type": "stream",
     "name": "stdout",
     "text": "conv1.bias.grad after backward\ntensor([-0.0016, -0.0087, -0.0012,  0.0034,  0.0029, -0.0070])\n"
    }
   ],
   "source": [
    "loss.backward()\n",
    "print('conv1.bias.grad after backward')\n",
    "print(net.conv1.bias.grad)"
   ]
  },
  {
   "cell_type": "markdown",
   "metadata": {},
   "source": [
    "#### 46"
   ]
  },
  {
   "cell_type": "code",
   "execution_count": 62,
   "metadata": {},
   "outputs": [],
   "source": [
    "import torch.optim as optim\n",
    "optimizer = optim.SGD(net.parameters(),lr=0.01)"
   ]
  },
  {
   "cell_type": "markdown",
   "metadata": {},
   "source": [
    "#### 47"
   ]
  },
  {
   "cell_type": "code",
   "execution_count": 64,
   "metadata": {},
   "outputs": [],
   "source": [
    "optimizer.zero_grad()\n",
    "output = net(input)\n",
    "loss = criterion(output,target)\n",
    "loss.backward()\n",
    "optimizer.step()"
   ]
  },
  {
   "cell_type": "markdown",
   "metadata": {},
   "source": [
    "#### 48"
   ]
  },
  {
   "cell_type": "code",
   "execution_count": 4,
   "metadata": {},
   "outputs": [],
   "source": [
    "import torchvision\n",
    "import torch\n",
    "import torchvision.transforms as transforms\n",
    "transform = transforms.Compose(\n",
    "    [transforms.ToTensor(), transforms.Normalize((0.5,0.5,0.5),(0.5,0.5,0.5))]\n",
    ")"
   ]
  },
  {
   "cell_type": "code",
   "execution_count": 7,
   "metadata": {},
   "outputs": [
    {
     "output_type": "stream",
     "name": "stdout",
     "text": "Files already downloaded and verified\nFiles already downloaded and verified\n"
    }
   ],
   "source": [
    "trainset = torchvision.datasets.CIFAR10(root='./data',train=True,download=True,transform=transform)\n",
    "trainloader= torch.utils.data.DataLoader(trainset,batch_size=4,shuffle=True,num_workers=2)\n",
    "testset = torchvision.datasets.CIFAR10(root='./data',train=False,transform=transform,download=True) \n",
    "testloader = torch.utils.data.DataLoader(testset,batch_size=4,shuffle=False,num_workers=2)\n",
    "classes = ('plane', 'car', 'bird', 'cat',\n",
    "           'deer', 'dog', 'frog', 'horse', 'ship', 'truck')"
   ]
  },
  {
   "cell_type": "code",
   "execution_count": 10,
   "metadata": {},
   "outputs": [
    {
     "output_type": "display_data",
     "data": {
      "text/plain": "<Figure size 432x288 with 1 Axes>",
      "image/svg+xml": "<?xml version=\"1.0\" encoding=\"utf-8\" standalone=\"no\"?>\r\n<!DOCTYPE svg PUBLIC \"-//W3C//DTD SVG 1.1//EN\"\r\n  \"http://www.w3.org/Graphics/SVG/1.1/DTD/svg11.dtd\">\r\n<!-- Created with matplotlib (https://matplotlib.org/) -->\r\n<svg height=\"121.003431pt\" version=\"1.1\" viewBox=\"0 0 368.925 121.003431\" width=\"368.925pt\" xmlns=\"http://www.w3.org/2000/svg\" xmlns:xlink=\"http://www.w3.org/1999/xlink\">\r\n <defs>\r\n  <style type=\"text/css\">\r\n*{stroke-linecap:butt;stroke-linejoin:round;}\r\n  </style>\r\n </defs>\r\n <g id=\"figure_1\">\r\n  <g id=\"patch_1\">\r\n   <path d=\"M -0 121.003431 \r\nL 368.925 121.003431 \r\nL 368.925 0 \r\nL -0 0 \r\nz\r\n\" style=\"fill:none;\"/>\r\n  </g>\r\n  <g id=\"axes_1\">\r\n   <g id=\"patch_2\">\r\n    <path d=\"M 26.925 97.125306 \r\nL 361.725 97.125306 \r\nL 361.725 9.786175 \r\nL 26.925 9.786175 \r\nz\r\n\" style=\"fill:#ffffff;\"/>\r\n   </g>\r\n   <g clip-path=\"url(#p866cc98b73)\">\r\n    <image height=\"88\" id=\"image0f8b6eacc0\" transform=\"scale(1 -1)translate(0 -88)\" width=\"335\" x=\"27\" xlink:href=\"data:image/png;base64,\r\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\" y=\"-9.003431\"/>\r\n   </g>\r\n   <g id=\"matplotlib.axis_1\">\r\n    <g id=\"xtick_1\">\r\n     <g id=\"line2d_1\">\r\n      <defs>\r\n       <path d=\"M 0 0 \r\nL 0 3.5 \r\n\" id=\"me1a971f48c\" style=\"stroke:#000000;stroke-width:0.8;\"/>\r\n      </defs>\r\n      <g>\r\n       <use style=\"stroke:#000000;stroke-width:0.8;\" x=\"28.138043\" xlink:href=\"#me1a971f48c\" y=\"97.125306\"/>\r\n      </g>\r\n     </g>\r\n     <g id=\"text_1\">\r\n      <!-- 0 -->\r\n      <defs>\r\n       <path d=\"M 31.78125 66.40625 \r\nQ 24.171875 66.40625 20.328125 58.90625 \r\nQ 16.5 51.421875 16.5 36.375 \r\nQ 16.5 21.390625 20.328125 13.890625 \r\nQ 24.171875 6.390625 31.78125 6.390625 \r\nQ 39.453125 6.390625 43.28125 13.890625 \r\nQ 47.125 21.390625 47.125 36.375 \r\nQ 47.125 51.421875 43.28125 58.90625 \r\nQ 39.453125 66.40625 31.78125 66.40625 \r\nz\r\nM 31.78125 74.21875 \r\nQ 44.046875 74.21875 50.515625 64.515625 \r\nQ 56.984375 54.828125 56.984375 36.375 \r\nQ 56.984375 17.96875 50.515625 8.265625 \r\nQ 44.046875 -1.421875 31.78125 -1.421875 \r\nQ 19.53125 -1.421875 13.0625 8.265625 \r\nQ 6.59375 17.96875 6.59375 36.375 \r\nQ 6.59375 54.828125 13.0625 64.515625 \r\nQ 19.53125 74.21875 31.78125 74.21875 \r\nz\r\n\" id=\"DejaVuSans-48\"/>\r\n      </defs>\r\n      <g transform=\"translate(24.956793 111.723743)scale(0.1 -0.1)\">\r\n       <use xlink:href=\"#DejaVuSans-48\"/>\r\n      </g>\r\n     </g>\r\n    </g>\r\n    <g id=\"xtick_2\">\r\n     <g id=\"line2d_2\">\r\n      <g>\r\n       <use style=\"stroke:#000000;stroke-width:0.8;\" x=\"76.659783\" xlink:href=\"#me1a971f48c\" y=\"97.125306\"/>\r\n      </g>\r\n     </g>\r\n     <g id=\"text_2\">\r\n      <!-- 20 -->\r\n      <defs>\r\n       <path d=\"M 19.1875 8.296875 \r\nL 53.609375 8.296875 \r\nL 53.609375 0 \r\nL 7.328125 0 \r\nL 7.328125 8.296875 \r\nQ 12.9375 14.109375 22.625 23.890625 \r\nQ 32.328125 33.6875 34.8125 36.53125 \r\nQ 39.546875 41.84375 41.421875 45.53125 \r\nQ 43.3125 49.21875 43.3125 52.78125 \r\nQ 43.3125 58.59375 39.234375 62.25 \r\nQ 35.15625 65.921875 28.609375 65.921875 \r\nQ 23.96875 65.921875 18.8125 64.3125 \r\nQ 13.671875 62.703125 7.8125 59.421875 \r\nL 7.8125 69.390625 \r\nQ 13.765625 71.78125 18.9375 73 \r\nQ 24.125 74.21875 28.421875 74.21875 \r\nQ 39.75 74.21875 46.484375 68.546875 \r\nQ 53.21875 62.890625 53.21875 53.421875 \r\nQ 53.21875 48.921875 51.53125 44.890625 \r\nQ 49.859375 40.875 45.40625 35.40625 \r\nQ 44.1875 33.984375 37.640625 27.21875 \r\nQ 31.109375 20.453125 19.1875 8.296875 \r\nz\r\n\" id=\"DejaVuSans-50\"/>\r\n      </defs>\r\n      <g transform=\"translate(70.297283 111.723743)scale(0.1 -0.1)\">\r\n       <use xlink:href=\"#DejaVuSans-50\"/>\r\n       <use x=\"63.623047\" xlink:href=\"#DejaVuSans-48\"/>\r\n      </g>\r\n     </g>\r\n    </g>\r\n    <g id=\"xtick_3\">\r\n     <g id=\"line2d_3\">\r\n      <g>\r\n       <use style=\"stroke:#000000;stroke-width:0.8;\" x=\"125.181522\" xlink:href=\"#me1a971f48c\" y=\"97.125306\"/>\r\n      </g>\r\n     </g>\r\n     <g id=\"text_3\">\r\n      <!-- 40 -->\r\n      <defs>\r\n       <path d=\"M 37.796875 64.3125 \r\nL 12.890625 25.390625 \r\nL 37.796875 25.390625 \r\nz\r\nM 35.203125 72.90625 \r\nL 47.609375 72.90625 \r\nL 47.609375 25.390625 \r\nL 58.015625 25.390625 \r\nL 58.015625 17.1875 \r\nL 47.609375 17.1875 \r\nL 47.609375 0 \r\nL 37.796875 0 \r\nL 37.796875 17.1875 \r\nL 4.890625 17.1875 \r\nL 4.890625 26.703125 \r\nz\r\n\" id=\"DejaVuSans-52\"/>\r\n      </defs>\r\n      <g transform=\"translate(118.819022 111.723743)scale(0.1 -0.1)\">\r\n       <use xlink:href=\"#DejaVuSans-52\"/>\r\n       <use x=\"63.623047\" xlink:href=\"#DejaVuSans-48\"/>\r\n      </g>\r\n     </g>\r\n    </g>\r\n    <g id=\"xtick_4\">\r\n     <g id=\"line2d_4\">\r\n      <g>\r\n       <use style=\"stroke:#000000;stroke-width:0.8;\" x=\"173.703261\" xlink:href=\"#me1a971f48c\" y=\"97.125306\"/>\r\n      </g>\r\n     </g>\r\n     <g id=\"text_4\">\r\n      <!-- 60 -->\r\n      <defs>\r\n       <path d=\"M 33.015625 40.375 \r\nQ 26.375 40.375 22.484375 35.828125 \r\nQ 18.609375 31.296875 18.609375 23.390625 \r\nQ 18.609375 15.53125 22.484375 10.953125 \r\nQ 26.375 6.390625 33.015625 6.390625 \r\nQ 39.65625 6.390625 43.53125 10.953125 \r\nQ 47.40625 15.53125 47.40625 23.390625 \r\nQ 47.40625 31.296875 43.53125 35.828125 \r\nQ 39.65625 40.375 33.015625 40.375 \r\nz\r\nM 52.59375 71.296875 \r\nL 52.59375 62.3125 \r\nQ 48.875 64.0625 45.09375 64.984375 \r\nQ 41.3125 65.921875 37.59375 65.921875 \r\nQ 27.828125 65.921875 22.671875 59.328125 \r\nQ 17.53125 52.734375 16.796875 39.40625 \r\nQ 19.671875 43.65625 24.015625 45.921875 \r\nQ 28.375 48.1875 33.59375 48.1875 \r\nQ 44.578125 48.1875 50.953125 41.515625 \r\nQ 57.328125 34.859375 57.328125 23.390625 \r\nQ 57.328125 12.15625 50.6875 5.359375 \r\nQ 44.046875 -1.421875 33.015625 -1.421875 \r\nQ 20.359375 -1.421875 13.671875 8.265625 \r\nQ 6.984375 17.96875 6.984375 36.375 \r\nQ 6.984375 53.65625 15.1875 63.9375 \r\nQ 23.390625 74.21875 37.203125 74.21875 \r\nQ 40.921875 74.21875 44.703125 73.484375 \r\nQ 48.484375 72.75 52.59375 71.296875 \r\nz\r\n\" id=\"DejaVuSans-54\"/>\r\n      </defs>\r\n      <g transform=\"translate(167.340761 111.723743)scale(0.1 -0.1)\">\r\n       <use xlink:href=\"#DejaVuSans-54\"/>\r\n       <use x=\"63.623047\" xlink:href=\"#DejaVuSans-48\"/>\r\n      </g>\r\n     </g>\r\n    </g>\r\n    <g id=\"xtick_5\">\r\n     <g id=\"line2d_5\">\r\n      <g>\r\n       <use style=\"stroke:#000000;stroke-width:0.8;\" x=\"222.225\" xlink:href=\"#me1a971f48c\" y=\"97.125306\"/>\r\n      </g>\r\n     </g>\r\n     <g id=\"text_5\">\r\n      <!-- 80 -->\r\n      <defs>\r\n       <path d=\"M 31.78125 34.625 \r\nQ 24.75 34.625 20.71875 30.859375 \r\nQ 16.703125 27.09375 16.703125 20.515625 \r\nQ 16.703125 13.921875 20.71875 10.15625 \r\nQ 24.75 6.390625 31.78125 6.390625 \r\nQ 38.8125 6.390625 42.859375 10.171875 \r\nQ 46.921875 13.96875 46.921875 20.515625 \r\nQ 46.921875 27.09375 42.890625 30.859375 \r\nQ 38.875 34.625 31.78125 34.625 \r\nz\r\nM 21.921875 38.8125 \r\nQ 15.578125 40.375 12.03125 44.71875 \r\nQ 8.5 49.078125 8.5 55.328125 \r\nQ 8.5 64.0625 14.71875 69.140625 \r\nQ 20.953125 74.21875 31.78125 74.21875 \r\nQ 42.671875 74.21875 48.875 69.140625 \r\nQ 55.078125 64.0625 55.078125 55.328125 \r\nQ 55.078125 49.078125 51.53125 44.71875 \r\nQ 48 40.375 41.703125 38.8125 \r\nQ 48.828125 37.15625 52.796875 32.3125 \r\nQ 56.78125 27.484375 56.78125 20.515625 \r\nQ 56.78125 9.90625 50.3125 4.234375 \r\nQ 43.84375 -1.421875 31.78125 -1.421875 \r\nQ 19.734375 -1.421875 13.25 4.234375 \r\nQ 6.78125 9.90625 6.78125 20.515625 \r\nQ 6.78125 27.484375 10.78125 32.3125 \r\nQ 14.796875 37.15625 21.921875 38.8125 \r\nz\r\nM 18.3125 54.390625 \r\nQ 18.3125 48.734375 21.84375 45.5625 \r\nQ 25.390625 42.390625 31.78125 42.390625 \r\nQ 38.140625 42.390625 41.71875 45.5625 \r\nQ 45.3125 48.734375 45.3125 54.390625 \r\nQ 45.3125 60.0625 41.71875 63.234375 \r\nQ 38.140625 66.40625 31.78125 66.40625 \r\nQ 25.390625 66.40625 21.84375 63.234375 \r\nQ 18.3125 60.0625 18.3125 54.390625 \r\nz\r\n\" id=\"DejaVuSans-56\"/>\r\n      </defs>\r\n      <g transform=\"translate(215.8625 111.723743)scale(0.1 -0.1)\">\r\n       <use xlink:href=\"#DejaVuSans-56\"/>\r\n       <use x=\"63.623047\" xlink:href=\"#DejaVuSans-48\"/>\r\n      </g>\r\n     </g>\r\n    </g>\r\n    <g id=\"xtick_6\">\r\n     <g id=\"line2d_6\">\r\n      <g>\r\n       <use style=\"stroke:#000000;stroke-width:0.8;\" x=\"270.746739\" xlink:href=\"#me1a971f48c\" y=\"97.125306\"/>\r\n      </g>\r\n     </g>\r\n     <g id=\"text_6\">\r\n      <!-- 100 -->\r\n      <defs>\r\n       <path d=\"M 12.40625 8.296875 \r\nL 28.515625 8.296875 \r\nL 28.515625 63.921875 \r\nL 10.984375 60.40625 \r\nL 10.984375 69.390625 \r\nL 28.421875 72.90625 \r\nL 38.28125 72.90625 \r\nL 38.28125 8.296875 \r\nL 54.390625 8.296875 \r\nL 54.390625 0 \r\nL 12.40625 0 \r\nz\r\n\" id=\"DejaVuSans-49\"/>\r\n      </defs>\r\n      <g transform=\"translate(261.202989 111.723743)scale(0.1 -0.1)\">\r\n       <use xlink:href=\"#DejaVuSans-49\"/>\r\n       <use x=\"63.623047\" xlink:href=\"#DejaVuSans-48\"/>\r\n       <use x=\"127.246094\" xlink:href=\"#DejaVuSans-48\"/>\r\n      </g>\r\n     </g>\r\n    </g>\r\n    <g id=\"xtick_7\">\r\n     <g id=\"line2d_7\">\r\n      <g>\r\n       <use style=\"stroke:#000000;stroke-width:0.8;\" x=\"319.268478\" xlink:href=\"#me1a971f48c\" y=\"97.125306\"/>\r\n      </g>\r\n     </g>\r\n     <g id=\"text_7\">\r\n      <!-- 120 -->\r\n      <g transform=\"translate(309.724728 111.723743)scale(0.1 -0.1)\">\r\n       <use xlink:href=\"#DejaVuSans-49\"/>\r\n       <use x=\"63.623047\" xlink:href=\"#DejaVuSans-50\"/>\r\n       <use x=\"127.246094\" xlink:href=\"#DejaVuSans-48\"/>\r\n      </g>\r\n     </g>\r\n    </g>\r\n   </g>\r\n   <g id=\"matplotlib.axis_2\">\r\n    <g id=\"ytick_1\">\r\n     <g id=\"line2d_8\">\r\n      <defs>\r\n       <path d=\"M 0 0 \r\nL -3.5 0 \r\n\" id=\"maf2f7d7e94\" style=\"stroke:#000000;stroke-width:0.8;\"/>\r\n      </defs>\r\n      <g>\r\n       <use style=\"stroke:#000000;stroke-width:0.8;\" x=\"26.925\" xlink:href=\"#maf2f7d7e94\" y=\"10.999219\"/>\r\n      </g>\r\n     </g>\r\n     <g id=\"text_8\">\r\n      <!-- 0 -->\r\n      <g transform=\"translate(13.5625 14.798437)scale(0.1 -0.1)\">\r\n       <use xlink:href=\"#DejaVuSans-48\"/>\r\n      </g>\r\n     </g>\r\n    </g>\r\n    <g id=\"ytick_2\">\r\n     <g id=\"line2d_9\">\r\n      <g>\r\n       <use style=\"stroke:#000000;stroke-width:0.8;\" x=\"26.925\" xlink:href=\"#maf2f7d7e94\" y=\"35.260088\"/>\r\n      </g>\r\n     </g>\r\n     <g id=\"text_9\">\r\n      <!-- 10 -->\r\n      <g transform=\"translate(7.2 39.059307)scale(0.1 -0.1)\">\r\n       <use xlink:href=\"#DejaVuSans-49\"/>\r\n       <use x=\"63.623047\" xlink:href=\"#DejaVuSans-48\"/>\r\n      </g>\r\n     </g>\r\n    </g>\r\n    <g id=\"ytick_3\">\r\n     <g id=\"line2d_10\">\r\n      <g>\r\n       <use style=\"stroke:#000000;stroke-width:0.8;\" x=\"26.925\" xlink:href=\"#maf2f7d7e94\" y=\"59.520958\"/>\r\n      </g>\r\n     </g>\r\n     <g id=\"text_10\">\r\n      <!-- 20 -->\r\n      <g transform=\"translate(7.2 63.320177)scale(0.1 -0.1)\">\r\n       <use xlink:href=\"#DejaVuSans-50\"/>\r\n       <use x=\"63.623047\" xlink:href=\"#DejaVuSans-48\"/>\r\n      </g>\r\n     </g>\r\n    </g>\r\n    <g id=\"ytick_4\">\r\n     <g id=\"line2d_11\">\r\n      <g>\r\n       <use style=\"stroke:#000000;stroke-width:0.8;\" x=\"26.925\" xlink:href=\"#maf2f7d7e94\" y=\"83.781827\"/>\r\n      </g>\r\n     </g>\r\n     <g id=\"text_11\">\r\n      <!-- 30 -->\r\n      <defs>\r\n       <path d=\"M 40.578125 39.3125 \r\nQ 47.65625 37.796875 51.625 33 \r\nQ 55.609375 28.21875 55.609375 21.1875 \r\nQ 55.609375 10.40625 48.1875 4.484375 \r\nQ 40.765625 -1.421875 27.09375 -1.421875 \r\nQ 22.515625 -1.421875 17.65625 -0.515625 \r\nQ 12.796875 0.390625 7.625 2.203125 \r\nL 7.625 11.71875 \r\nQ 11.71875 9.328125 16.59375 8.109375 \r\nQ 21.484375 6.890625 26.8125 6.890625 \r\nQ 36.078125 6.890625 40.9375 10.546875 \r\nQ 45.796875 14.203125 45.796875 21.1875 \r\nQ 45.796875 27.640625 41.28125 31.265625 \r\nQ 36.765625 34.90625 28.71875 34.90625 \r\nL 20.21875 34.90625 \r\nL 20.21875 43.015625 \r\nL 29.109375 43.015625 \r\nQ 36.375 43.015625 40.234375 45.921875 \r\nQ 44.09375 48.828125 44.09375 54.296875 \r\nQ 44.09375 59.90625 40.109375 62.90625 \r\nQ 36.140625 65.921875 28.71875 65.921875 \r\nQ 24.65625 65.921875 20.015625 65.03125 \r\nQ 15.375 64.15625 9.8125 62.3125 \r\nL 9.8125 71.09375 \r\nQ 15.4375 72.65625 20.34375 73.4375 \r\nQ 25.25 74.21875 29.59375 74.21875 \r\nQ 40.828125 74.21875 47.359375 69.109375 \r\nQ 53.90625 64.015625 53.90625 55.328125 \r\nQ 53.90625 49.265625 50.4375 45.09375 \r\nQ 46.96875 40.921875 40.578125 39.3125 \r\nz\r\n\" id=\"DejaVuSans-51\"/>\r\n      </defs>\r\n      <g transform=\"translate(7.2 87.581046)scale(0.1 -0.1)\">\r\n       <use xlink:href=\"#DejaVuSans-51\"/>\r\n       <use x=\"63.623047\" xlink:href=\"#DejaVuSans-48\"/>\r\n      </g>\r\n     </g>\r\n    </g>\r\n   </g>\r\n   <g id=\"patch_3\">\r\n    <path d=\"M 26.925 97.125306 \r\nL 26.925 9.786175 \r\n\" style=\"fill:none;stroke:#000000;stroke-linecap:square;stroke-linejoin:miter;stroke-width:0.8;\"/>\r\n   </g>\r\n   <g id=\"patch_4\">\r\n    <path d=\"M 361.725 97.125306 \r\nL 361.725 9.786175 \r\n\" style=\"fill:none;stroke:#000000;stroke-linecap:square;stroke-linejoin:miter;stroke-width:0.8;\"/>\r\n   </g>\r\n   <g id=\"patch_5\">\r\n    <path d=\"M 26.925 97.125306 \r\nL 361.725 97.125306 \r\n\" style=\"fill:none;stroke:#000000;stroke-linecap:square;stroke-linejoin:miter;stroke-width:0.8;\"/>\r\n   </g>\r\n   <g id=\"patch_6\">\r\n    <path d=\"M 26.925 9.786175 \r\nL 361.725 9.786175 \r\n\" style=\"fill:none;stroke:#000000;stroke-linecap:square;stroke-linejoin:miter;stroke-width:0.8;\"/>\r\n   </g>\r\n  </g>\r\n </g>\r\n <defs>\r\n  <clipPath id=\"p866cc98b73\">\r\n   <rect height=\"87.33913\" width=\"334.8\" x=\"26.925\" y=\"9.786175\"/>\r\n  </clipPath>\r\n </defs>\r\n</svg>\r\n",
      "image/png": "[encoded data removed]"
     },
     "metadata": {}
    },
    {
     "output_type": "stream",
     "name": "stdout",
     "text": "bird froghorseplane\n"
    }
   ],
   "source": [
    "import matplotlib.pyplot as plt\n",
    "import numpy as np\n",
    "def imshow(img):\n",
    "    img = img/2+0.5\n",
    "    npimg = img.numpy()\n",
    "    plt.imshow(np.transpose(npimg,(1,2,0)))\n",
    "    plt.show()\n",
    "\n",
    "dataiter = iter(trainloader)\n",
    "images, labels = dataiter.next()\n",
    "\n",
    "imshow(torchvision.utils.make_grid(images))\n",
    "print(''.join('%5s' % classes[labels[j]] for j in range(4)))\n",
    ""
   ]
  },
  {
   "cell_type": "code",
   "execution_count": 12,
   "metadata": {},
   "outputs": [],
   "source": [
    "net2 = Net()"
   ]
  },
  {
   "cell_type": "markdown",
   "metadata": {},
   "source": [
    "#### 49"
   ]
  },
  {
   "cell_type": "code",
   "execution_count": 13,
   "metadata": {},
   "outputs": [],
   "source": [
    "criterion2 = nn.CrossEntropyLoss()"
   ]
  },
  {
   "cell_type": "markdown",
   "metadata": {},
   "source": [
    "#### 50"
   ]
  },
  {
   "cell_type": "code",
   "execution_count": 14,
   "metadata": {},
   "outputs": [],
   "source": [
    "import torch.optim as optim\n",
    "optimizer2 = optim.SGD(net2.parameters(),lr=0.001,momentum=0.9)"
   ]
  },
  {
   "cell_type": "markdown",
   "metadata": {},
   "source": [
    "#### 51"
   ]
  },
  {
   "cell_type": "code",
   "execution_count": 16,
   "metadata": {},
   "outputs": [
    {
     "output_type": "stream",
     "name": "stdout",
     "text": "[1,  2000] loss: 2.263\n[1,  4000] loss: 2.137\n[1,  6000] loss: 1.895\n[1,  8000] loss: 1.713\n[1, 10000] loss: 1.610\n[1, 12000] loss: 1.552\n[2,  2000] loss: 1.470\n[2,  4000] loss: 1.428\n[2,  6000] loss: 1.400\n[2,  8000] loss: 1.394\n[2, 10000] loss: 1.367\n[2, 12000] loss: 1.356\nFinished Training\n"
    }
   ],
   "source": [
    "for epoch in range(2):\n",
    "    running_loss = 0\n",
    "    # print(\"epoch %d\",epoch)\n",
    "\n",
    "    for i,data in enumerate(trainloader,0):\n",
    "        inputs,labels = data\n",
    "        optimizer2.zero_grad()\n",
    "        outputs = net2(inputs)\n",
    "        loss = criterion2(outputs,labels)\n",
    "        loss.backward()\n",
    "        optimizer2.step()\n",
    "        running_loss+=loss.item()\n",
    "        if i % 2000 == 1999:\n",
    "            print('[%d, %5d] loss: %.3f' % (epoch + 1, i + 1, running_loss / 2000))\n",
    "            running_loss = 0.0\n",
    "\n",
    "print('Finished Training')\n",
    ""
   ]
  },
  {
   "cell_type": "markdown",
   "metadata": {},
   "source": [
    "#### 56"
   ]
  },
  {
   "cell_type": "code",
   "execution_count": null,
   "metadata": {},
   "outputs": [],
   "source": [
    "dataiter = iter(testloader)\n",
    "images, labels = dataiter.next()\n",
    "imshow(torchvision.utils.make_grid(images))\n",
    "print('GroundTruth: ',' '.join('%5s' % classes[labels[j]] for j in range(4)))"
   ]
  },
  {
   "cell_type": "code",
   "execution_count": null,
   "metadata": {},
   "outputs": [],
   "source": []
  },
  {
   "cell_type": "code",
   "execution_count": null,
   "metadata": {},
   "outputs": [],
   "source": []
  },
  {
   "cell_type": "code",
   "execution_count": null,
   "metadata": {},
   "outputs": [],
   "source": []
  },
  {
   "cell_type": "code",
   "execution_count": null,
   "metadata": {},
   "outputs": [],
   "source": []
  },
  {
   "cell_type": "code",
   "execution_count": null,
   "metadata": {},
   "outputs": [],
   "source": []
  },
  {
   "cell_type": "code",
   "execution_count": null,
   "metadata": {},
   "outputs": [],
   "source": []
  },
  {
   "cell_type": "code",
   "execution_count": null,
   "metadata": {},
   "outputs": [],
   "source": []
  },
  {
   "cell_type": "code",
   "execution_count": null,
   "metadata": {},
   "outputs": [],
   "source": []
  },
  {
   "cell_type": "code",
   "execution_count": null,
   "metadata": {},
   "outputs": [],
   "source": []
  },
  {
   "cell_type": "code",
   "execution_count": null,
   "metadata": {},
   "outputs": [],
   "source": []
  },
  {
   "cell_type": "code",
   "execution_count": null,
   "metadata": {},
   "outputs": [],
   "source": []
  },
  {
   "cell_type": "code",
   "execution_count": null,
   "metadata": {},
   "outputs": [],
   "source": []
  },
  {
   "cell_type": "code",
   "execution_count": null,
   "metadata": {},
   "outputs": [],
   "source": []
  },
  {
   "cell_type": "code",
   "execution_count": null,
   "metadata": {},
   "outputs": [],
   "source": []
  },
  {
   "cell_type": "code",
   "execution_count": null,
   "metadata": {},
   "outputs": [],
   "source": []
  },
  {
   "cell_type": "code",
   "execution_count": null,
   "metadata": {},
   "outputs": [],
   "source": []
  },
  {
   "cell_type": "code",
   "execution_count": null,
   "metadata": {},
   "outputs": [],
   "source": [
    "\n",
    "\n",
    "\n",
    "\n",
    "\n",
    "\n",
    "\n",
    "\n",
    "\n",
    "\n",
    "\n",
    "\n",
    "\n",
    "\n",
    "\n"
   ]
  }
 ]
}